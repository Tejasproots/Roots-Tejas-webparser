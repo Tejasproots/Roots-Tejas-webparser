{
 "cells": [
  {
   "cell_type": "code",
   "execution_count": 1,
   "id": "078c237d",
   "metadata": {},
   "outputs": [],
   "source": [
    "from __future__ import print_function\n",
    "from re import sub\n",
    "from bs4 import BeautifulSoup\n",
    "#importing the libraries\n",
    "import numpy as np\n",
    "# Pandas for managing datasets\n",
    "import pandas as pd\n",
    "#import json to parse the JSON output and parse the data you need\n",
    "import json\n",
    "import re\n",
    "import sys\n",
    "import requests, bs4\n",
    "#import requests (or urllib) to connect to the url\n",
    "import urllib.request"
   ]
  },
  {
   "cell_type": "markdown",
   "id": "4c5aec74",
   "metadata": {},
   "source": [
    "# Using BeautifulSoup"
   ]
  },
  {
   "cell_type": "code",
   "execution_count": 2,
   "id": "4defa1f6",
   "metadata": {},
   "outputs": [],
   "source": [
    "\n",
    "#bubble\n",
    "baseurl=(\"https://www.google.com/search?q=+site%3Abubbleapps.io&biw=1536&bih=754&sxsrf=ALiCzsYt54s_MpKJs1z8zXPpzjWiaiv91g%3A1656546266060&ei=2uO8YriqA_TO9APet4GgCw&ved=0ahUKEwi4__fd69P4AhV0J30KHd5bALQ4KBDh1QMIDg&uact=5&oq=+site%3Abubbleapps.io&gs_lcp=Cgdnd3Mtd2l6EANKBAhBGABKBAhGGABQAFgAYIUFaABwAHgAgAFdiAFdkgEBMZgBAKABAqABAcABAQ&sclient=gws-wiz\")\n",
    "#shopify\n",
    "#baseurl=(\"https://www.google.com/search?q=site:myshopify.com&sxsrf=ALiCzsYCRJiF7YSOrd546CFuVjbiDLA_vg:1656546263087&ei=1-O8Yor5BNWs0PEPkvmqsAI&start=40&sa=N&ved=2ahUKEwjKwMLc69P4AhVVFjQIHZK8CiY4HhDw0wN6BAgBEEs&biw=1536&bih=754&dpr=1.25\")\n",
    "r =requests.get(baseurl)\n",
    "## link of the page to be read)\n",
    "soup = bs4.BeautifulSoup(r.text, 'lxml')\n",
    "#soup = BeautifulSoup(thepage)"
   ]
  },
  {
   "cell_type": "code",
   "execution_count": 3,
   "id": "dc896f6b",
   "metadata": {},
   "outputs": [
    {
     "name": "stdout",
     "output_type": "stream",
     "text": [
      "https://bubbleapps.io\n",
      "https://viably.bubbleapps.io\n",
      "https://gitbook.bubbleapps.io\n",
      "https://penta.bubbleapps.io\n",
      "https://merrative.bubbleapps.io\n",
      "https://upworkclone.bubbleapps.io\n",
      "https://spacegain.bubbleapps.io\n",
      "https://eropagraha.bubbleapps.io\n",
      "https://mdq.bubbleapps.io\n",
      "https://contractflow.bubbleapps.io\n"
     ]
    }
   ],
   "source": [
    "applink=[]\n",
    "for i in soup.find_all('div', attrs={'class' : 'egMi0 kCrYT'}):\n",
    "    applink.append(i.a['href'])\n",
    "for i in applink:\n",
    "    result = re.search('=(.*)/',i)\n",
    "    if result:\n",
    "        print(result.group(1))"
   ]
  },
  {
   "cell_type": "code",
   "execution_count": 6,
   "id": "616d43cd",
   "metadata": {},
   "outputs": [],
   "source": [
    "import importlib.util\n",
    "\n",
    "# For illustrative purposes.\n",
    "package_name = 'selenium'\n",
    "\n",
    "spec = importlib.util.find_spec(package_name)\n",
    "if spec is None:\n",
    "    print(package_name +\" is not installed\")\n"
   ]
  },
  {
   "cell_type": "code",
   "execution_count": null,
   "id": "07d2a853",
   "metadata": {},
   "outputs": [],
   "source": []
  }
 ],
 "metadata": {
  "kernelspec": {
   "display_name": "Python 3 (ipykernel)",
   "language": "python",
   "name": "python3"
  },
  "language_info": {
   "codemirror_mode": {
    "name": "ipython",
    "version": 3
   },
   "file_extension": ".py",
   "mimetype": "text/x-python",
   "name": "python",
   "nbconvert_exporter": "python",
   "pygments_lexer": "ipython3",
   "version": "3.9.12"
  }
 },
 "nbformat": 4,
 "nbformat_minor": 5
}
