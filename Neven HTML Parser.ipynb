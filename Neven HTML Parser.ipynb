{
 "cells": [
  {
   "cell_type": "code",
   "execution_count": 3,
   "id": "4e6adef6",
   "metadata": {},
   "outputs": [],
   "source": [
    "import os\n",
    "\n",
    "import cv2\n",
    "import numpy as np\n",
    "\n",
    "from selenium import webdriver\n",
    "from selenium.webdriver.common.by import By\n",
    "from selenium.webdriver.chrome.options import Options\n",
    "from webdriver_manager.chrome import ChromeDriverManager"
   ]
  },
  {
   "cell_type": "code",
   "execution_count": 4,
   "id": "57fce8b6",
   "metadata": {},
   "outputs": [
    {
     "name": "stdout",
     "output_type": "stream",
     "text": [
      "\n"
     ]
    },
    {
     "name": "stderr",
     "output_type": "stream",
     "text": [
      "[WDM] - ====== WebDriver manager ======\n",
      "[WDM] - Current google-chrome version is 103.0.5060\n",
      "[WDM] - Get LATEST chromedriver version for 103.0.5060 google-chrome\n",
      "[WDM] - There is no [win32] chromedriver for browser 103.0.5060 in cache\n",
      "[WDM] - About to download new driver from https://chromedriver.storage.googleapis.com/103.0.5060.53/chromedriver_win32.zip\n",
      "[WDM] - Driver has been saved in cache [C:\\Users\\TejasP\\.wdm\\drivers\\chromedriver\\win32\\103.0.5060.53]\n",
      "C:\\Users\\TejasP\\AppData\\Local\\Temp\\ipykernel_20812\\1268771546.py:15: DeprecationWarning: executable_path has been deprecated, please pass in a Service object\n",
      "  driver = webdriver.Chrome(ChromeDriverManager().install(), options=chrome_options)\n"
     ]
    }
   ],
   "source": [
    "\n",
    "login_like_pages = [\"https://houseofcharizma.myshopify.com\"]\n",
    "\n",
    "\n",
    "if __name__ == \"__main__\":\n",
    "\n",
    "    chrome_options = Options()\n",
    "    chrome_options.add_argument(\"--headless\")\n",
    "    chrome_options.add_argument(\"--window-size=1920,1080\")\n",
    "\n",
    "    # optional; reduces amount of info logged to console\n",
    "    chrome_options.add_argument(\"--log-level=3\")\n",
    "\n",
    "    os.makedirs('tmp/')\n",
    "\n",
    "    driver = webdriver.Chrome(ChromeDriverManager().install(), options=chrome_options)\n",
    "\n",
    "    for k in range(len(login_like_pages)):\n",
    "        driver.get(login_like_pages[k])\n",
    "        img_str = driver.get_screenshot_as_png()\n",
    "\n",
    "        img_str_arr = np.frombuffer(img_str, np.uint8)\n",
    "        img = cv2.imdecode(img_str_arr, cv2.IMREAD_COLOR)\n",
    "\n",
    "        # elements = driver.find_elements(by=By.CLASS_NAME, value=\"lnXdpd\")\n",
    "\n",
    "        values = [\"input\", \"img\", \"select\", \"button\"]\n",
    "        # radiobutton (<input type=\"radio\">), checkbox (<input type=\"checkbox\">), dateinput (<input type=\"date\">)\n",
    "        colors = [(255, 0, 0), (0, 255, 0), (0, 0, 255), (255, 255, 0)]\n",
    "\n",
    "        for j in range(len(values)):\n",
    "\n",
    "            elements = driver.find_elements(by=By.TAG_NAME, value=values[j])\n",
    "\n",
    "            for i in range(len(elements)):\n",
    "                x1 = int(elements[i].rect['x'])\n",
    "                y1 = int(elements[i].rect['y'])\n",
    "                x2 = int(x1 + elements[i].rect['width'])\n",
    "                y2 = int(y1 + elements[i].rect['height'])\n",
    "\n",
    "                cv2.rectangle(img, (x1, y1), (x2, y2), colors[j], 1)\n",
    "                cv2.putText(img, values[j], (x1, y1 - 10),\n",
    "                            cv2.FONT_HERSHEY_SIMPLEX, 0.5, (36, 255, 12), 1)\n",
    "\n",
    "        cv2.imwrite('tmp/{}.png'.format(k), img)"
   ]
  },
  {
   "cell_type": "code",
   "execution_count": null,
   "id": "9c988c7f",
   "metadata": {},
   "outputs": [],
   "source": []
  },
  {
   "cell_type": "code",
   "execution_count": null,
   "id": "76b3cb0b",
   "metadata": {},
   "outputs": [],
   "source": []
  },
  {
   "cell_type": "code",
   "execution_count": null,
   "id": "8730d182",
   "metadata": {},
   "outputs": [],
   "source": []
  }
 ],
 "metadata": {
  "kernelspec": {
   "display_name": "Python 3 (ipykernel)",
   "language": "python",
   "name": "python3"
  },
  "language_info": {
   "codemirror_mode": {
    "name": "ipython",
    "version": 3
   },
   "file_extension": ".py",
   "mimetype": "text/x-python",
   "name": "python",
   "nbconvert_exporter": "python",
   "pygments_lexer": "ipython3",
   "version": "3.9.12"
  }
 },
 "nbformat": 4,
 "nbformat_minor": 5
}
