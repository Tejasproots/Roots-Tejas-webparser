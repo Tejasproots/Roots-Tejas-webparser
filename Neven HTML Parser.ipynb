{
 "cells": [
  {
   "cell_type": "code",
   "execution_count": 66,
   "id": "4e6adef6",
   "metadata": {},
   "outputs": [],
   "source": [
    "from fileinput import filename\n",
    "import os\n",
    "import re\n",
    "import cv2\n",
    "import numpy as np\n",
    "from selenium import webdriver\n",
    "from selenium.webdriver.common.by import By\n",
    "from selenium.webdriver.chrome.options import Options\n",
    "from webdriver_manager.chrome import ChromeDriverManager\n",
    "import pandas as pd"
   ]
  },
  {
   "cell_type": "code",
   "execution_count": 67,
   "id": "a74f431d",
   "metadata": {},
   "outputs": [
    {
     "data": {
      "text/plain": [
       "273"
      ]
     },
     "execution_count": 67,
     "metadata": {},
     "output_type": "execute_result"
    }
   ],
   "source": [
    "df =pd.read_csv(r\"C:\\Users\\TejasP\\local_code_repo\\DigitialVisionWebparser\\shopify.csv\")\n",
    "login_like_pages= []\n",
    "login_like_pages= df['url'].tolist()\n",
    "len(login_like_pages)"
   ]
  },
  {
   "cell_type": "code",
   "execution_count": 68,
   "id": "8818affb",
   "metadata": {},
   "outputs": [
    {
     "data": {
      "text/plain": [
       "['https://houseofcharizma.myshopify.com',\n",
       " 'https://kivarikivari.myshopify.com',\n",
       " 'https://beddys.myshopify.com']"
      ]
     },
     "execution_count": 68,
     "metadata": {},
     "output_type": "execute_result"
    }
   ],
   "source": [
    "login_like_pages[1:4]"
   ]
  },
  {
   "cell_type": "code",
   "execution_count": 69,
   "id": "242c8b51",
   "metadata": {},
   "outputs": [],
   "source": [
    "login_like_pages=login_like_pages[1:4]"
   ]
  },
  {
   "cell_type": "code",
   "execution_count": 70,
   "id": "386e66cb",
   "metadata": {},
   "outputs": [
    {
     "data": {
      "text/plain": [
       "['https://houseofcharizma.myshopify.com',\n",
       " 'https://kivarikivari.myshopify.com',\n",
       " 'https://beddys.myshopify.com']"
      ]
     },
     "execution_count": 70,
     "metadata": {},
     "output_type": "execute_result"
    }
   ],
   "source": [
    "login_like_pages"
   ]
  },
  {
   "cell_type": "code",
   "execution_count": 71,
   "id": "34de4d95",
   "metadata": {},
   "outputs": [
    {
     "name": "stdout",
     "output_type": "stream",
     "text": [
      "Directory Exist\n"
     ]
    }
   ],
   "source": [
    "if os.path.isdir('digitalvisionwebparser/')== True:\n",
    "    print(\"Directory Exist\")\n",
    "else:\n",
    "    os.makedirs('digitalvisionwebparser/')"
   ]
  },
  {
   "cell_type": "code",
   "execution_count": 72,
   "id": "c17e30b3",
   "metadata": {},
   "outputs": [
    {
     "name": "stderr",
     "output_type": "stream",
     "text": [
      "C:\\Users\\TejasP\\AppData\\Local\\Temp\\ipykernel_13024\\2959532700.py:2: DeprecationWarning: executable_path has been deprecated, please pass in a Service object\n",
      "  driver = webdriver.Chrome(PATH)\n"
     ]
    }
   ],
   "source": [
    "PATH =(r\"C:\\Users\\TejasP\\local_code_repo\\DigitialVisionWebparser\\chromedriver.exe\")\n",
    "driver = webdriver.Chrome(PATH)\n",
    "#login_like_pages = [\"https://houseofcharizma.myshopify.com\"]"
   ]
  },
  {
   "cell_type": "code",
   "execution_count": 13,
   "id": "57fce8b6",
   "metadata": {},
   "outputs": [
    {
     "name": "stdout",
     "output_type": "stream",
     "text": [
      "\n"
     ]
    },
    {
     "name": "stderr",
     "output_type": "stream",
     "text": [
      "[WDM] - ====== WebDriver manager ======\n",
      "[WDM] - Current google-chrome version is 103.0.5060\n",
      "[WDM] - Get LATEST chromedriver version for 103.0.5060 google-chrome\n",
      "[WDM] - Driver [C:\\Users\\TejasP\\.wdm\\drivers\\chromedriver\\win32\\103.0.5060.53\\chromedriver.exe] found in cache\n",
      "C:\\Users\\TejasP\\AppData\\Local\\Temp\\ipykernel_5564\\170878910.py:15: DeprecationWarning: executable_path has been deprecated, please pass in a Service object\n",
      "  driver = webdriver.Chrome(ChromeDriverManager().install(), options=chrome_options)\n"
     ]
    }
   ],
   "source": [
    "###OLD\n",
    "login_like_pages = [\"https://houseofcharizma.myshopify.com\"]\n",
    "\n",
    "\n",
    "if __name__ == \"__main__\":\n",
    "\n",
    "    chrome_options = Options()\n",
    "    chrome_options.add_argument(\"--headless\")\n",
    "    chrome_options.add_argument(\"--window-size=1920,1080\")\n",
    "    \n",
    "\n",
    "    # optional; reduces amount of info logged to console\n",
    "    chrome_options.add_argument(\"--log-level=3\")\n",
    "\n",
    "    if os.path.isdir('digitalvisionwebparser/')== True:\n",
    "        print(\"Directory Exist\")\n",
    "    else:\n",
    "        os.makedirs('digitalvisionwebparser/')\n",
    "\n",
    "    driver = webdriver.Chrome(ChromeDriverManager().install(), options=chrome_options)\n",
    "\n",
    "    for k in range(len(login_like_pages)):\n",
    "        driver.get(login_like_pages[k])\n",
    "        \n",
    "        img_str = driver.get_screenshot_as_png()\n",
    "\n",
    "        img_str_arr = np.frombuffer(img_str, np.uint8)\n",
    "        img = cv2.imdecode(img_str_arr, cv2.IMREAD_COLOR)\n",
    "\n",
    "        # elements = driver.find_elements(by=By.CLASS_NAME, value=\"lnXdpd\")\n",
    "\n",
    "        values = [\"input\", \"img\", \"select\", \"button\",\"svg\",\"a\",\"span\"]\n",
    "        # radiobutton (<input type=\"radio\">), checkbox (<input type=\"checkbox\">), dateinput (<input type=\"date\">)\n",
    "        colors = [(255, 0, 0), (0, 255, 0), (0, 0, 255), (255, 255, 0),(128, 255, 0),(0, 128, 0),(0, 0, 128)]\n",
    "        mapping = {}\n",
    "        mapping[\"input\"]=\"Input\"\n",
    "        mapping[\"img\"]=\"Image\"\n",
    "        mapping[\"select\"]=\"Dropdown\"\n",
    "        mapping[\"button\"]=\"Button\"\n",
    "        mapping[\"svg\"]=\"Image\"\n",
    "        mapping[\"a\"]=\"Text\"\n",
    "        mapping[\"span\"]=\"Text\"\n",
    "        \n",
    "\n",
    "        for j in range(len(values)):\n",
    "\n",
    "            elements = driver.find_elements(by=By.TAG_NAME, value=values[j])\n",
    "\n",
    "            for i in range(len(elements)):\n",
    "                x1 = int(elements[i].rect['x'])\n",
    "                y1 = int(elements[i].rect['y'])\n",
    "                x2 = int(x1 + elements[i].rect['width'])\n",
    "                y2 = int(y1 + elements[i].rect['height'])\n",
    "\n",
    "                cv2.rectangle(img, (x1, y1), (x2, y2), colors[j], 1)\n",
    "                cv2.putText(img,mapping[values[j]], (x1, y1 - 10),\n",
    "                            cv2.FONT_HERSHEY_SIMPLEX, 0.5, (36, 255, 12), 1)\n",
    "\n",
    "        cv2.imwrite('tmp3/{}.png'.format(k), img)"
   ]
  },
  {
   "cell_type": "code",
   "execution_count": 73,
   "id": "8c0a7216",
   "metadata": {},
   "outputs": [
    {
     "name": "stdout",
     "output_type": "stream",
     "text": [
      "Directory Exist\n"
     ]
    },
    {
     "ename": "StaleElementReferenceException",
     "evalue": "Message: stale element reference: element is not attached to the page document\n  (Session info: chrome=103.0.5060.134)\nStacktrace:\nBacktrace:\n\tOrdinal0 [0x00806463+2188387]\n\tOrdinal0 [0x0079E461+1762401]\n\tOrdinal0 [0x006B3D78+802168]\n\tOrdinal0 [0x006B6754+812884]\n\tOrdinal0 [0x006B6612+812562]\n\tOrdinal0 [0x006B68A0+813216]\n\tOrdinal0 [0x006DE3FB+975867]\n\tOrdinal0 [0x006FC7DC+1099740]\n\tOrdinal0 [0x006D7FF4+950260]\n\tOrdinal0 [0x006FC9F4+1100276]\n\tOrdinal0 [0x0070CC22+1166370]\n\tOrdinal0 [0x006FC5F6+1099254]\n\tOrdinal0 [0x006D6BE0+945120]\n\tOrdinal0 [0x006D7AD6+948950]\n\tGetHandleVerifier [0x00AA71F2+2712546]\n\tGetHandleVerifier [0x00A9886D+2652765]\n\tGetHandleVerifier [0x0089002A+520730]\n\tGetHandleVerifier [0x0088EE06+516086]\n\tOrdinal0 [0x007A468B+1787531]\n\tOrdinal0 [0x007A8E88+1805960]\n\tOrdinal0 [0x007A8F75+1806197]\n\tOrdinal0 [0x007B1DF1+1842673]\n\tBaseThreadInitThunk [0x75D16739+25]\n\tRtlGetFullPathName_UEx [0x773C8FEF+1215]\n\tRtlGetFullPathName_UEx [0x773C8FBD+1165]\n",
     "output_type": "error",
     "traceback": [
      "\u001b[1;31m---------------------------------------------------------------------------\u001b[0m",
      "\u001b[1;31mStaleElementReferenceException\u001b[0m            Traceback (most recent call last)",
      "Input \u001b[1;32mIn [73]\u001b[0m, in \u001b[0;36m<cell line: 4>\u001b[1;34m()\u001b[0m\n\u001b[0;32m     46\u001b[0m elements \u001b[38;5;241m=\u001b[39m driver\u001b[38;5;241m.\u001b[39mfind_elements(by\u001b[38;5;241m=\u001b[39mBy\u001b[38;5;241m.\u001b[39mTAG_NAME, value\u001b[38;5;241m=\u001b[39mvalues[j])\n\u001b[0;32m     48\u001b[0m \u001b[38;5;28;01mfor\u001b[39;00m i \u001b[38;5;129;01min\u001b[39;00m \u001b[38;5;28mrange\u001b[39m(\u001b[38;5;28mlen\u001b[39m(elements)):\n\u001b[1;32m---> 49\u001b[0m     x1 \u001b[38;5;241m=\u001b[39m \u001b[38;5;28mint\u001b[39m(\u001b[43melements\u001b[49m\u001b[43m[\u001b[49m\u001b[43mi\u001b[49m\u001b[43m]\u001b[49m\u001b[38;5;241;43m.\u001b[39;49m\u001b[43mrect\u001b[49m[\u001b[38;5;124m'\u001b[39m\u001b[38;5;124mx\u001b[39m\u001b[38;5;124m'\u001b[39m])\n\u001b[0;32m     50\u001b[0m     y1 \u001b[38;5;241m=\u001b[39m \u001b[38;5;28mint\u001b[39m(elements[i]\u001b[38;5;241m.\u001b[39mrect[\u001b[38;5;124m'\u001b[39m\u001b[38;5;124my\u001b[39m\u001b[38;5;124m'\u001b[39m])\n\u001b[0;32m     51\u001b[0m     x2 \u001b[38;5;241m=\u001b[39m \u001b[38;5;28mint\u001b[39m(x1 \u001b[38;5;241m+\u001b[39m elements[i]\u001b[38;5;241m.\u001b[39mrect[\u001b[38;5;124m'\u001b[39m\u001b[38;5;124mwidth\u001b[39m\u001b[38;5;124m'\u001b[39m])\n",
      "File \u001b[1;32m~\\anaconda3\\lib\\site-packages\\selenium\\webdriver\\remote\\webelement.py:294\u001b[0m, in \u001b[0;36mWebElement.rect\u001b[1;34m(self)\u001b[0m\n\u001b[0;32m    291\u001b[0m \u001b[38;5;129m@property\u001b[39m\n\u001b[0;32m    292\u001b[0m \u001b[38;5;28;01mdef\u001b[39;00m \u001b[38;5;21mrect\u001b[39m(\u001b[38;5;28mself\u001b[39m) \u001b[38;5;241m-\u001b[39m\u001b[38;5;241m>\u001b[39m \u001b[38;5;28mdict\u001b[39m:\n\u001b[0;32m    293\u001b[0m     \u001b[38;5;124;03m\"\"\"A dictionary with the size and location of the element.\"\"\"\u001b[39;00m\n\u001b[1;32m--> 294\u001b[0m     \u001b[38;5;28;01mreturn\u001b[39;00m \u001b[38;5;28;43mself\u001b[39;49m\u001b[38;5;241;43m.\u001b[39;49m\u001b[43m_execute\u001b[49m\u001b[43m(\u001b[49m\u001b[43mCommand\u001b[49m\u001b[38;5;241;43m.\u001b[39;49m\u001b[43mGET_ELEMENT_RECT\u001b[49m\u001b[43m)\u001b[49m[\u001b[38;5;124m'\u001b[39m\u001b[38;5;124mvalue\u001b[39m\u001b[38;5;124m'\u001b[39m]\n",
      "File \u001b[1;32m~\\anaconda3\\lib\\site-packages\\selenium\\webdriver\\remote\\webelement.py:396\u001b[0m, in \u001b[0;36mWebElement._execute\u001b[1;34m(self, command, params)\u001b[0m\n\u001b[0;32m    394\u001b[0m     params \u001b[38;5;241m=\u001b[39m {}\n\u001b[0;32m    395\u001b[0m params[\u001b[38;5;124m'\u001b[39m\u001b[38;5;124mid\u001b[39m\u001b[38;5;124m'\u001b[39m] \u001b[38;5;241m=\u001b[39m \u001b[38;5;28mself\u001b[39m\u001b[38;5;241m.\u001b[39m_id\n\u001b[1;32m--> 396\u001b[0m \u001b[38;5;28;01mreturn\u001b[39;00m \u001b[38;5;28;43mself\u001b[39;49m\u001b[38;5;241;43m.\u001b[39;49m\u001b[43m_parent\u001b[49m\u001b[38;5;241;43m.\u001b[39;49m\u001b[43mexecute\u001b[49m\u001b[43m(\u001b[49m\u001b[43mcommand\u001b[49m\u001b[43m,\u001b[49m\u001b[43m \u001b[49m\u001b[43mparams\u001b[49m\u001b[43m)\u001b[49m\n",
      "File \u001b[1;32m~\\anaconda3\\lib\\site-packages\\selenium\\webdriver\\remote\\webdriver.py:435\u001b[0m, in \u001b[0;36mWebDriver.execute\u001b[1;34m(self, driver_command, params)\u001b[0m\n\u001b[0;32m    433\u001b[0m response \u001b[38;5;241m=\u001b[39m \u001b[38;5;28mself\u001b[39m\u001b[38;5;241m.\u001b[39mcommand_executor\u001b[38;5;241m.\u001b[39mexecute(driver_command, params)\n\u001b[0;32m    434\u001b[0m \u001b[38;5;28;01mif\u001b[39;00m response:\n\u001b[1;32m--> 435\u001b[0m     \u001b[38;5;28;43mself\u001b[39;49m\u001b[38;5;241;43m.\u001b[39;49m\u001b[43merror_handler\u001b[49m\u001b[38;5;241;43m.\u001b[39;49m\u001b[43mcheck_response\u001b[49m\u001b[43m(\u001b[49m\u001b[43mresponse\u001b[49m\u001b[43m)\u001b[49m\n\u001b[0;32m    436\u001b[0m     response[\u001b[38;5;124m'\u001b[39m\u001b[38;5;124mvalue\u001b[39m\u001b[38;5;124m'\u001b[39m] \u001b[38;5;241m=\u001b[39m \u001b[38;5;28mself\u001b[39m\u001b[38;5;241m.\u001b[39m_unwrap_value(\n\u001b[0;32m    437\u001b[0m         response\u001b[38;5;241m.\u001b[39mget(\u001b[38;5;124m'\u001b[39m\u001b[38;5;124mvalue\u001b[39m\u001b[38;5;124m'\u001b[39m, \u001b[38;5;28;01mNone\u001b[39;00m))\n\u001b[0;32m    438\u001b[0m     \u001b[38;5;28;01mreturn\u001b[39;00m response\n",
      "File \u001b[1;32m~\\anaconda3\\lib\\site-packages\\selenium\\webdriver\\remote\\errorhandler.py:247\u001b[0m, in \u001b[0;36mErrorHandler.check_response\u001b[1;34m(self, response)\u001b[0m\n\u001b[0;32m    245\u001b[0m         alert_text \u001b[38;5;241m=\u001b[39m value[\u001b[38;5;124m'\u001b[39m\u001b[38;5;124malert\u001b[39m\u001b[38;5;124m'\u001b[39m]\u001b[38;5;241m.\u001b[39mget(\u001b[38;5;124m'\u001b[39m\u001b[38;5;124mtext\u001b[39m\u001b[38;5;124m'\u001b[39m)\n\u001b[0;32m    246\u001b[0m     \u001b[38;5;28;01mraise\u001b[39;00m exception_class(message, screen, stacktrace, alert_text)  \u001b[38;5;66;03m# type: ignore[call-arg]  # mypy is not smart enough here\u001b[39;00m\n\u001b[1;32m--> 247\u001b[0m \u001b[38;5;28;01mraise\u001b[39;00m exception_class(message, screen, stacktrace)\n",
      "\u001b[1;31mStaleElementReferenceException\u001b[0m: Message: stale element reference: element is not attached to the page document\n  (Session info: chrome=103.0.5060.134)\nStacktrace:\nBacktrace:\n\tOrdinal0 [0x00806463+2188387]\n\tOrdinal0 [0x0079E461+1762401]\n\tOrdinal0 [0x006B3D78+802168]\n\tOrdinal0 [0x006B6754+812884]\n\tOrdinal0 [0x006B6612+812562]\n\tOrdinal0 [0x006B68A0+813216]\n\tOrdinal0 [0x006DE3FB+975867]\n\tOrdinal0 [0x006FC7DC+1099740]\n\tOrdinal0 [0x006D7FF4+950260]\n\tOrdinal0 [0x006FC9F4+1100276]\n\tOrdinal0 [0x0070CC22+1166370]\n\tOrdinal0 [0x006FC5F6+1099254]\n\tOrdinal0 [0x006D6BE0+945120]\n\tOrdinal0 [0x006D7AD6+948950]\n\tGetHandleVerifier [0x00AA71F2+2712546]\n\tGetHandleVerifier [0x00A9886D+2652765]\n\tGetHandleVerifier [0x0089002A+520730]\n\tGetHandleVerifier [0x0088EE06+516086]\n\tOrdinal0 [0x007A468B+1787531]\n\tOrdinal0 [0x007A8E88+1805960]\n\tOrdinal0 [0x007A8F75+1806197]\n\tOrdinal0 [0x007B1DF1+1842673]\n\tBaseThreadInitThunk [0x75D16739+25]\n\tRtlGetFullPathName_UEx [0x773C8FEF+1215]\n\tRtlGetFullPathName_UEx [0x773C8FBD+1165]\n"
     ]
    }
   ],
   "source": [
    "filename =[]\n",
    "mappingno =[]\n",
    "fileno = 0 \n",
    "if __name__ == \"__main__\":\n",
    "\n",
    "    chrome_options = Options()\n",
    "    chrome_options.add_argument(\"--headless\")\n",
    "    chrome_options.add_argument(\"--window-size=1920,1080\")\n",
    "    # optional; reduces amount of info logged to console\n",
    "    #chrome_options.add_argument(\"--log-level=3\")\n",
    "    if os.path.isdir('digitalvisionwebparser/')== True:\n",
    "        print(\"Directory Exist\")\n",
    "    else:\n",
    "        os.makedirs('digitalvisionwebparser/')\n",
    "    #driver = webdriver.Chrome(ChromeDriverManager().install(), options=chrome_options)\n",
    "\n",
    "    for k in range(len(login_like_pages)):\n",
    "        driver.get(login_like_pages[k])\n",
    "        driver.maximize_window()\n",
    "        fileno = fileno+1\n",
    "        filename.append(k)\n",
    "        mappingno.append(fileno)\n",
    "        img_str = driver.get_screenshot_as_png()\n",
    "\n",
    "        img_str_arr = np.frombuffer(img_str, np.uint8)\n",
    "        img = cv2.imdecode(img_str_arr, cv2.IMREAD_COLOR)\n",
    "\n",
    "        # elements = driver.find_elements(by=By.CLASS_NAME, value=\"lnXdpd\")\n",
    "\n",
    "        values = [\"input\", \"img\", \"select\", \"button\",\"svg\",\"a\",\"span\"]\n",
    "        # radiobutton (<input type=\"radio\">), checkbox (<input type=\"checkbox\">), dateinput (<input type=\"date\">)\n",
    "        colors = [(255, 0, 0), (0, 255, 0), (0, 0, 255), (255, 255, 0),(128, 255, 0),(0, 128, 0),(0, 0, 128)]\n",
    "        mapping = {}\n",
    "        mapping[\"input\"]=\"Input\"\n",
    "        mapping[\"img\"]=\"Image\"\n",
    "        mapping[\"select\"]=\"Dropdown\"\n",
    "        mapping[\"button\"]=\"Button\"\n",
    "        mapping[\"svg\"]=\"Image\"\n",
    "        mapping[\"a\"]=\"Text\"\n",
    "        mapping[\"span\"]=\"Text\"\n",
    "        boundingboxes = []\n",
    "        \n",
    "## Name + Screenshot + numpy files + \n",
    "        for j in range(len(values)):\n",
    "\n",
    "            elements = driver.find_elements(by=By.TAG_NAME, value=values[j])\n",
    "\n",
    "            for i in range(len(elements)):\n",
    "                x1 = int(elements[i].rect['x'])\n",
    "                y1 = int(elements[i].rect['y'])\n",
    "                x2 = int(x1 + elements[i].rect['width'])\n",
    "                y2 = int(y1 + elements[i].rect['height'])\n",
    "                if x1==y1==x2==y2==0:\n",
    "                    ...\n",
    "                else:\n",
    "                    #boundingboxes.append({'x1': x1, 'x2': x2,'y1': y1, 'y2': y2})\n",
    "                    boundingboxes.append({'x1': x1, 'x2': x2,'y1': y1, 'y2': y2,\"elementtype\":mapping[values[j]]}) \n",
    "                    #cv2.rectangle(img, (x1, y1), (x2, y2), colors[j], 1)\n",
    "                    #cv2.putText(img,mapping[values[j]], (x1, y1 - 10),\n",
    "                    #            cv2.FONT_HERSHEY_SIMPLEX, 0.5, (36, 255, 12), 1)\n",
    "\n",
    "        cv2.imwrite(\"digitalvisionwebparser/\"+str(fileno)+'.png'.format(k), img)\n",
    "        np.save(\"digitalvisionwebparser/\"+str(fileno)+'.npy', boundingboxes)\n",
    "driver.quit()"
   ]
  },
  {
   "cell_type": "code",
   "execution_count": 74,
   "id": "9c988c7f",
   "metadata": {},
   "outputs": [
    {
     "data": {
      "text/plain": [
       "'C:\\\\Users\\\\TejasP\\\\local_code_repo\\\\DigitialVisionWebparser'"
      ]
     },
     "execution_count": 74,
     "metadata": {},
     "output_type": "execute_result"
    }
   ],
   "source": [
    "pwd"
   ]
  },
  {
   "cell_type": "code",
   "execution_count": null,
   "id": "76b3cb0b",
   "metadata": {},
   "outputs": [],
   "source": [
    "##[\"Text\", \"Input\", \"DateInput\", \"Dropdown\", \"Image\", \"Button\", \"Checkbox\", \"RadioButtons\"]"
   ]
  },
  {
   "cell_type": "code",
   "execution_count": 12,
   "id": "8730d182",
   "metadata": {},
   "outputs": [],
   "source": [
    "## Hidden elements removal -- ghosts elements.... invisible elements\n",
    "## Remap tags name to Digital vision ..##[\"Text\", \"Input\", \"DateInput\", \"Dropdown\", \"Image\", \"Button\", \"Checkbox\", \"RadioButtons\"]"
   ]
  },
  {
   "cell_type": "code",
   "execution_count": 20,
   "id": "95bd3943",
   "metadata": {},
   "outputs": [],
   "source": [
    "data = np.load(\"C:\\\\Users\\\\TejasP\\\\local_code_repo\\\\DigitialVisionWebparser\\\\1.npy\",allow_pickle=True)\n",
    "#data"
   ]
  },
  {
   "cell_type": "code",
   "execution_count": 22,
   "id": "f7c7d7d0",
   "metadata": {},
   "outputs": [
    {
     "data": {
      "text/html": [
       "<div>\n",
       "<style scoped>\n",
       "    .dataframe tbody tr th:only-of-type {\n",
       "        vertical-align: middle;\n",
       "    }\n",
       "\n",
       "    .dataframe tbody tr th {\n",
       "        vertical-align: top;\n",
       "    }\n",
       "\n",
       "    .dataframe thead th {\n",
       "        text-align: right;\n",
       "    }\n",
       "</style>\n",
       "<table border=\"1\" class=\"dataframe\">\n",
       "  <thead>\n",
       "    <tr style=\"text-align: right;\">\n",
       "      <th></th>\n",
       "      <th>Unnamed: 0</th>\n",
       "      <th>appsite</th>\n",
       "      <th>fromsearchpage</th>\n",
       "      <th>url</th>\n",
       "    </tr>\n",
       "  </thead>\n",
       "  <tbody>\n",
       "    <tr>\n",
       "      <th>0</th>\n",
       "      <td>0</td>\n",
       "      <td>shopify</td>\n",
       "      <td>1</td>\n",
       "      <td>https://testrevesderecho.myshopify.com</td>\n",
       "    </tr>\n",
       "    <tr>\n",
       "      <th>1</th>\n",
       "      <td>1</td>\n",
       "      <td>shopify</td>\n",
       "      <td>1</td>\n",
       "      <td>https://houseofcharizma.myshopify.com</td>\n",
       "    </tr>\n",
       "    <tr>\n",
       "      <th>2</th>\n",
       "      <td>2</td>\n",
       "      <td>shopify</td>\n",
       "      <td>1</td>\n",
       "      <td>https://kivarikivari.myshopify.com</td>\n",
       "    </tr>\n",
       "    <tr>\n",
       "      <th>3</th>\n",
       "      <td>3</td>\n",
       "      <td>shopify</td>\n",
       "      <td>1</td>\n",
       "      <td>https://beddys.myshopify.com</td>\n",
       "    </tr>\n",
       "    <tr>\n",
       "      <th>4</th>\n",
       "      <td>4</td>\n",
       "      <td>shopify</td>\n",
       "      <td>1</td>\n",
       "      <td>https://miamifruit.myshopify.com</td>\n",
       "    </tr>\n",
       "    <tr>\n",
       "      <th>...</th>\n",
       "      <td>...</td>\n",
       "      <td>...</td>\n",
       "      <td>...</td>\n",
       "      <td>...</td>\n",
       "    </tr>\n",
       "    <tr>\n",
       "      <th>268</th>\n",
       "      <td>268</td>\n",
       "      <td>shopify</td>\n",
       "      <td>39</td>\n",
       "      <td>https://the-can-co.myshopify.com</td>\n",
       "    </tr>\n",
       "    <tr>\n",
       "      <th>269</th>\n",
       "      <td>269</td>\n",
       "      <td>shopify</td>\n",
       "      <td>39</td>\n",
       "      <td>https://addison-clothing-store.myshopify.com</td>\n",
       "    </tr>\n",
       "    <tr>\n",
       "      <th>270</th>\n",
       "      <td>270</td>\n",
       "      <td>shopify</td>\n",
       "      <td>39</td>\n",
       "      <td>https://two-feet-undr.myshopify.com</td>\n",
       "    </tr>\n",
       "    <tr>\n",
       "      <th>271</th>\n",
       "      <td>271</td>\n",
       "      <td>shopify</td>\n",
       "      <td>39</td>\n",
       "      <td>https://archer-and-olive.myshopify.com</td>\n",
       "    </tr>\n",
       "    <tr>\n",
       "      <th>272</th>\n",
       "      <td>272</td>\n",
       "      <td>shopify</td>\n",
       "      <td>39</td>\n",
       "      <td>https://insider-store-loja.myshopify.com</td>\n",
       "    </tr>\n",
       "  </tbody>\n",
       "</table>\n",
       "<p>273 rows × 4 columns</p>\n",
       "</div>"
      ],
      "text/plain": [
       "     Unnamed: 0  appsite  fromsearchpage  \\\n",
       "0             0  shopify               1   \n",
       "1             1  shopify               1   \n",
       "2             2  shopify               1   \n",
       "3             3  shopify               1   \n",
       "4             4  shopify               1   \n",
       "..          ...      ...             ...   \n",
       "268         268  shopify              39   \n",
       "269         269  shopify              39   \n",
       "270         270  shopify              39   \n",
       "271         271  shopify              39   \n",
       "272         272  shopify              39   \n",
       "\n",
       "                                              url  \n",
       "0          https://testrevesderecho.myshopify.com  \n",
       "1           https://houseofcharizma.myshopify.com  \n",
       "2              https://kivarikivari.myshopify.com  \n",
       "3                    https://beddys.myshopify.com  \n",
       "4                https://miamifruit.myshopify.com  \n",
       "..                                            ...  \n",
       "268              https://the-can-co.myshopify.com  \n",
       "269  https://addison-clothing-store.myshopify.com  \n",
       "270           https://two-feet-undr.myshopify.com  \n",
       "271        https://archer-and-olive.myshopify.com  \n",
       "272      https://insider-store-loja.myshopify.com  \n",
       "\n",
       "[273 rows x 4 columns]"
      ]
     },
     "execution_count": 22,
     "metadata": {},
     "output_type": "execute_result"
    }
   ],
   "source": [
    "mapping= pd.DataFrame({'screenshotno':mappingno,\n",
    "                  'numpyfileno':mappingno,\n",
    "                  'urlname': filename\n",
    "                  })\n",
    "mapping.drop_duplicates()"
   ]
  },
  {
   "cell_type": "code",
   "execution_count": 23,
   "id": "b5fd30e2",
   "metadata": {},
   "outputs": [
    {
     "data": {
      "text/html": [
       "<div>\n",
       "<style scoped>\n",
       "    .dataframe tbody tr th:only-of-type {\n",
       "        vertical-align: middle;\n",
       "    }\n",
       "\n",
       "    .dataframe tbody tr th {\n",
       "        vertical-align: top;\n",
       "    }\n",
       "\n",
       "    .dataframe thead th {\n",
       "        text-align: right;\n",
       "    }\n",
       "</style>\n",
       "<table border=\"1\" class=\"dataframe\">\n",
       "  <thead>\n",
       "    <tr style=\"text-align: right;\">\n",
       "      <th></th>\n",
       "      <th>screenshotno</th>\n",
       "      <th>numpyfileno</th>\n",
       "      <th>urlname</th>\n",
       "    </tr>\n",
       "  </thead>\n",
       "  <tbody>\n",
       "    <tr>\n",
       "      <th>0</th>\n",
       "      <td>1</td>\n",
       "      <td>1</td>\n",
       "      <td>https://houseofcharizma.myshopify.com</td>\n",
       "    </tr>\n",
       "    <tr>\n",
       "      <th>1</th>\n",
       "      <td>2</td>\n",
       "      <td>2</td>\n",
       "      <td>https://kivarikivari.myshopify.com</td>\n",
       "    </tr>\n",
       "    <tr>\n",
       "      <th>2</th>\n",
       "      <td>3</td>\n",
       "      <td>3</td>\n",
       "      <td>https://beddys.myshopify.com</td>\n",
       "    </tr>\n",
       "  </tbody>\n",
       "</table>\n",
       "</div>"
      ],
      "text/plain": [
       "   screenshotno  numpyfileno                                urlname\n",
       "0             1            1  https://houseofcharizma.myshopify.com\n",
       "1             2            2     https://kivarikivari.myshopify.com\n",
       "2             3            3           https://beddys.myshopify.com"
      ]
     },
     "execution_count": 23,
     "metadata": {},
     "output_type": "execute_result"
    }
   ],
   "source": [
    "mapping.drop_duplicates()"
   ]
  },
  {
   "cell_type": "code",
   "execution_count": 31,
   "id": "9e76aca0",
   "metadata": {},
   "outputs": [
    {
     "data": {
      "text/plain": [
       "'houseofcharizma'"
      ]
     },
     "execution_count": 31,
     "metadata": {},
     "output_type": "execute_result"
    }
   ],
   "source": [
    "result = re.search('//(.*).my',\"https://houseofcharizma.myshopify.com\") #Regex to look for for specific patterns \"https.......com\"\n",
    "result.group(1)"
   ]
  },
  {
   "cell_type": "code",
   "execution_count": 54,
   "id": "431b59ed",
   "metadata": {},
   "outputs": [],
   "source": [
    "x1=0\n",
    "y1=0\n",
    "x2=0\n",
    "y2=0"
   ]
  },
  {
   "cell_type": "code",
   "execution_count": 55,
   "id": "f20ecc1e",
   "metadata": {},
   "outputs": [],
   "source": [
    "boundingboxes = []\n",
    "if x1==y1==x2==y2==0:\n",
    "    ...\n",
    "else:\n",
    "    boundingboxes.append({'x1': x1, 'x2': x2,'y1': y1, 'y2': y2})"
   ]
  },
  {
   "cell_type": "code",
   "execution_count": 56,
   "id": "699375a3",
   "metadata": {},
   "outputs": [
    {
     "data": {
      "text/plain": [
       "[]"
      ]
     },
     "execution_count": 56,
     "metadata": {},
     "output_type": "execute_result"
    }
   ],
   "source": [
    "boundingboxes"
   ]
  },
  {
   "cell_type": "code",
   "execution_count": 77,
   "id": "35a90533",
   "metadata": {},
   "outputs": [],
   "source": [
    "data1 = np.load(\"C:\\\\Users\\\\TejasP\\\\local_code_repo\\\\DigitialVisionWebparser\\\\1.npy\",allow_pickle=True)\n",
    "#data"
   ]
  },
  {
   "cell_type": "code",
   "execution_count": 78,
   "id": "096e08e1",
   "metadata": {},
   "outputs": [
    {
     "data": {
      "text/plain": [
       "array([{'x1': 366, 'x2': 516, 'y1': 128, 'y2': 162, 'elementtype': 'Input'},\n",
       "       {'x1': 1086, 'x2': 1379, 'y1': 5125, 'y2': 5161, 'elementtype': 'Input'},\n",
       "       {'x1': 1384, 'x2': 1508, 'y1': 5125, 'y2': 5161, 'elementtype': 'Input'},\n",
       "       {'x1': 1923, 'x2': 2220, 'y1': 151, 'y2': 187, 'elementtype': 'Input'},\n",
       "       {'x1': 1923, 'x2': 2220, 'y1': 228, 'y2': 264, 'elementtype': 'Input'},\n",
       "       {'x1': 1923, 'x2': 2220, 'y1': 279, 'y2': 315, 'elementtype': 'Input'},\n",
       "       {'x1': 1469, 'x2': 1486, 'y1': 58, 'y2': 75, 'elementtype': 'Image'},\n",
       "       {'x1': 892, 'x2': 1010, 'y1': 96, 'y2': 196, 'elementtype': 'Image'},\n",
       "       {'x1': 1110, 'x2': 1320, 'y1': 313, 'y2': 478, 'elementtype': 'Image'},\n",
       "       {'x1': 1110, 'x2': 1320, 'y1': 484, 'y2': 649, 'elementtype': 'Image'},\n",
       "       {'x1': 1326, 'x2': 1536, 'y1': 313, 'y2': 650, 'elementtype': 'Image'},\n",
       "       {'x1': 0, 'x2': 1903, 'y1': 252, 'y2': 981, 'elementtype': 'Image'},\n",
       "       {'x1': 0, 'x2': 1903, 'y1': 0, 'y2': 20, 'elementtype': 'Image'},\n",
       "       {'x1': 0, 'x2': 1903, 'y1': 252, 'y2': 981, 'elementtype': 'Image'},\n",
       "       {'x1': 0, 'x2': 1903, 'y1': 0, 'y2': 20, 'elementtype': 'Image'},\n",
       "       {'x1': 0, 'x2': 1903, 'y1': 252, 'y2': 981, 'elementtype': 'Image'},\n",
       "       {'x1': 0, 'x2': 1903, 'y1': 0, 'y2': 20, 'elementtype': 'Image'},\n",
       "       {'x1': 0, 'x2': 1903, 'y1': 252, 'y2': 981, 'elementtype': 'Image'},\n",
       "       {'x1': 0, 'x2': 1903, 'y1': 0, 'y2': 20, 'elementtype': 'Image'},\n",
       "       {'x1': 0, 'x2': 1903, 'y1': 252, 'y2': 981, 'elementtype': 'Image'},\n",
       "       {'x1': 0, 'x2': 1903, 'y1': 0, 'y2': 20, 'elementtype': 'Image'},\n",
       "       {'x1': 0, 'x2': 1903, 'y1': 252, 'y2': 981, 'elementtype': 'Image'},\n",
       "       {'x1': 0, 'x2': 1903, 'y1': 0, 'y2': 20, 'elementtype': 'Image'},\n",
       "       {'x1': 0, 'x2': 1903, 'y1': 252, 'y2': 981, 'elementtype': 'Image'},\n",
       "       {'x1': 0, 'x2': 1903, 'y1': 0, 'y2': 20, 'elementtype': 'Image'},\n",
       "       {'x1': 0, 'x2': 1903, 'y1': 252, 'y2': 981, 'elementtype': 'Image'},\n",
       "       {'x1': 0, 'x2': 1903, 'y1': 0, 'y2': 20, 'elementtype': 'Image'},\n",
       "       {'x1': 0, 'x2': 1903, 'y1': 252, 'y2': 981, 'elementtype': 'Image'},\n",
       "       {'x1': 0, 'x2': 1903, 'y1': 0, 'y2': 20, 'elementtype': 'Image'},\n",
       "       {'x1': 15, 'x2': 937, 'y1': 1011, 'y2': 1625, 'elementtype': 'Image'},\n",
       "       {'x1': 966, 'x2': 1888, 'y1': 1011, 'y2': 1625, 'elementtype': 'Image'},\n",
       "       {'x1': 366, 'x2': 636, 'y1': 1785, 'y2': 2190, 'elementtype': 'Image'},\n",
       "       {'x1': 366, 'x2': 636, 'y1': 1785, 'y2': 2001, 'elementtype': 'Image'},\n",
       "       {'x1': 666, 'x2': 936, 'y1': 1785, 'y2': 2190, 'elementtype': 'Image'},\n",
       "       {'x1': 666, 'x2': 936, 'y1': 1785, 'y2': 2001, 'elementtype': 'Image'},\n",
       "       {'x1': 966, 'x2': 1236, 'y1': 1785, 'y2': 2001, 'elementtype': 'Image'},\n",
       "       {'x1': 966, 'x2': 1236, 'y1': 1785, 'y2': 2001, 'elementtype': 'Image'},\n",
       "       {'x1': 1266, 'x2': 1536, 'y1': 1785, 'y2': 2001, 'elementtype': 'Image'},\n",
       "       {'x1': 1266, 'x2': 1536, 'y1': 1785, 'y2': 2001, 'elementtype': 'Image'},\n",
       "       {'x1': 1566, 'x2': 1836, 'y1': 1785, 'y2': 2001, 'elementtype': 'Image'},\n",
       "       {'x1': 1566, 'x2': 1836, 'y1': 1785, 'y2': 2001, 'elementtype': 'Image'},\n",
       "       {'x1': 1866, 'x2': 2136, 'y1': 1785, 'y2': 2001, 'elementtype': 'Image'},\n",
       "       {'x1': 1866, 'x2': 2136, 'y1': 1785, 'y2': 2001, 'elementtype': 'Image'},\n",
       "       {'x1': 514, 'x2': 588, 'y1': 2383, 'y2': 2403, 'elementtype': 'Image'},\n",
       "       {'x1': 914, 'x2': 988, 'y1': 2383, 'y2': 2403, 'elementtype': 'Image'},\n",
       "       {'x1': 1314, 'x2': 1388, 'y1': 2383, 'y2': 2403, 'elementtype': 'Image'},\n",
       "       {'x1': 0, 'x2': 634, 'y1': 3577, 'y2': 4211, 'elementtype': 'Image'},\n",
       "       {'x1': 634, 'x2': 1268, 'y1': 3577, 'y2': 4211, 'elementtype': 'Image'},\n",
       "       {'x1': 1268, 'x2': 1902, 'y1': 3577, 'y2': 4211, 'elementtype': 'Image'},\n",
       "       {'x1': 0, 'x2': 634, 'y1': 4212, 'y2': 4846, 'elementtype': 'Image'},\n",
       "       {'x1': 634, 'x2': 1268, 'y1': 4212, 'y2': 4846, 'elementtype': 'Image'},\n",
       "       {'x1': 1268, 'x2': 1902, 'y1': 4212, 'y2': 4846, 'elementtype': 'Image'},\n",
       "       {'x1': 1086, 'x2': 1126, 'y1': 5005, 'y2': 5045, 'elementtype': 'Image'},\n",
       "       {'x1': 516, 'x2': 544, 'y1': 128, 'y2': 162, 'elementtype': 'Button'},\n",
       "       {'x1': 0, 'x2': 72, 'y1': 566, 'y2': 638, 'elementtype': 'Button'},\n",
       "       {'x1': 1831, 'x2': 1903, 'y1': 566, 'y2': 638, 'elementtype': 'Button'},\n",
       "       {'x1': 841, 'x2': 853, 'y1': 927, 'y2': 939, 'elementtype': 'Button'},\n",
       "       {'x1': 867, 'x2': 879, 'y1': 927, 'y2': 939, 'elementtype': 'Button'},\n",
       "       {'x1': 893, 'x2': 905, 'y1': 927, 'y2': 939, 'elementtype': 'Button'},\n",
       "       {'x1': 919, 'x2': 931, 'y1': 927, 'y2': 939, 'elementtype': 'Button'},\n",
       "       {'x1': 945, 'x2': 957, 'y1': 927, 'y2': 939, 'elementtype': 'Button'},\n",
       "       {'x1': 971, 'x2': 983, 'y1': 927, 'y2': 939, 'elementtype': 'Button'},\n",
       "       {'x1': 997, 'x2': 1009, 'y1': 927, 'y2': 939, 'elementtype': 'Button'},\n",
       "       {'x1': 1023, 'x2': 1035, 'y1': 927, 'y2': 939, 'elementtype': 'Button'},\n",
       "       {'x1': 1049, 'x2': 1061, 'y1': 927, 'y2': 939, 'elementtype': 'Button'},\n",
       "       {'x1': 349, 'x2': 385, 'y1': 1932, 'y2': 1968, 'elementtype': 'Button'},\n",
       "       {'x1': 1517, 'x2': 1553, 'y1': 1932, 'y2': 1968, 'elementtype': 'Button'},\n",
       "       {'x1': 0, 'x2': 337, 'y1': 0, 'y2': 36, 'elementtype': 'Button'},\n",
       "       {'x1': 1923, 'x2': 2220, 'y1': 218, 'y2': 254, 'elementtype': 'Button'},\n",
       "       {'x1': 367, 'x2': 468, 'y1': 848, 'y2': 886, 'elementtype': 'Button'},\n",
       "       {'x1': 15, 'x2': 83, 'y1': 833, 'y2': 901, 'elementtype': 'Button'},\n",
       "       {'x1': 15, 'x2': 83, 'y1': 833, 'y2': 901, 'elementtype': 'Button'},\n",
       "       {'x1': 527, 'x2': 543, 'y1': 138, 'y2': 154, 'elementtype': 'Image'},\n",
       "       {'x1': 1459, 'x2': 1485, 'y1': 132, 'y2': 158, 'elementtype': 'Image'},\n",
       "       {'x1': 1510, 'x2': 1536, 'y1': 132, 'y2': 158, 'elementtype': 'Image'},\n",
       "       {'x1': 22, 'x2': 47, 'y1': 590, 'y2': 615, 'elementtype': 'Image'},\n",
       "       {'x1': 1855, 'x2': 1880, 'y1': 590, 'y2': 615, 'elementtype': 'Image'},\n",
       "       {'x1': 2160, 'x2': 2177, 'y1': 22, 'y2': 39, 'elementtype': 'Image'},\n",
       "       {'x1': 2160, 'x2': 2177, 'y1': 23, 'y2': 40, 'elementtype': 'Image'},\n",
       "       {'x1': 40, 'x2': 60, 'y1': 857, 'y2': 877, 'elementtype': 'Image'},\n",
       "       {'x1': 42, 'x2': 56, 'y1': 858, 'y2': 876, 'elementtype': 'Image'},\n",
       "       {'x1': 40, 'x2': 58, 'y1': 857, 'y2': 877, 'elementtype': 'Image'},\n",
       "       {'x1': 0, 'x2': 24, 'y1': 0, 'y2': 24, 'elementtype': 'Text'},\n",
       "       {'x1': 366, 'x2': 391, 'y1': 53, 'y2': 78, 'elementtype': 'Text'},\n",
       "       {'x1': 400, 'x2': 425, 'y1': 53, 'y2': 78, 'elementtype': 'Text'},\n",
       "       {'x1': 434, 'x2': 459, 'y1': 53, 'y2': 78, 'elementtype': 'Text'},\n",
       "       {'x1': 0, 'x2': 22, 'y1': 0, 'y2': 25, 'elementtype': 'Text'},\n",
       "       {'x1': 892, 'x2': 1010, 'y1': 96, 'y2': 196, 'elementtype': 'Text'},\n",
       "       {'x1': 1459, 'x2': 1485, 'y1': 132, 'y2': 158, 'elementtype': 'Text'},\n",
       "       {'x1': 1510, 'x2': 1536, 'y1': 132, 'y2': 158, 'elementtype': 'Text'},\n",
       "       {'x1': 667, 'x2': 754, 'y1': 207, 'y2': 252, 'elementtype': 'Text'},\n",
       "       {'x1': 366, 'x2': 569, 'y1': 301, 'y2': 331, 'elementtype': 'Text'},\n",
       "       {'x1': 599, 'x2': 802, 'y1': 301, 'y2': 331, 'elementtype': 'Text'},\n",
       "       {'x1': 599, 'x2': 802, 'y1': 331, 'y2': 361, 'elementtype': 'Text'},\n",
       "       {'x1': 599, 'x2': 802, 'y1': 361, 'y2': 391, 'elementtype': 'Text'},\n",
       "       {'x1': 599, 'x2': 802, 'y1': 391, 'y2': 421, 'elementtype': 'Text'},\n",
       "       {'x1': 599, 'x2': 802, 'y1': 421, 'y2': 451, 'elementtype': 'Text'},\n",
       "       {'x1': 599, 'x2': 802, 'y1': 451, 'y2': 481, 'elementtype': 'Text'},\n",
       "       {'x1': 599, 'x2': 802, 'y1': 481, 'y2': 511, 'elementtype': 'Text'},\n",
       "       {'x1': 599, 'x2': 802, 'y1': 511, 'y2': 541, 'elementtype': 'Text'},\n",
       "       {'x1': 599, 'x2': 802, 'y1': 541, 'y2': 571, 'elementtype': 'Text'},\n",
       "       {'x1': 599, 'x2': 802, 'y1': 571, 'y2': 601, 'elementtype': 'Text'},\n",
       "       {'x1': 599, 'x2': 802, 'y1': 601, 'y2': 631, 'elementtype': 'Text'},\n",
       "       {'x1': 599, 'x2': 802, 'y1': 631, 'y2': 661, 'elementtype': 'Text'},\n",
       "       {'x1': 833, 'x2': 1036, 'y1': 301, 'y2': 331, 'elementtype': 'Text'},\n",
       "       {'x1': 833, 'x2': 1036, 'y1': 331, 'y2': 361, 'elementtype': 'Text'},\n",
       "       {'x1': 833, 'x2': 1036, 'y1': 361, 'y2': 391, 'elementtype': 'Text'},\n",
       "       {'x1': 366, 'x2': 569, 'y1': 363, 'y2': 393, 'elementtype': 'Text'},\n",
       "       {'x1': 366, 'x2': 569, 'y1': 393, 'y2': 423, 'elementtype': 'Text'},\n",
       "       {'x1': 1110, 'x2': 1320, 'y1': 313, 'y2': 478, 'elementtype': 'Text'},\n",
       "       {'x1': 1110, 'x2': 1320, 'y1': 484, 'y2': 649, 'elementtype': 'Text'},\n",
       "       {'x1': 1326, 'x2': 1536, 'y1': 313, 'y2': 650, 'elementtype': 'Text'},\n",
       "       {'x1': 797, 'x2': 909, 'y1': 207, 'y2': 252, 'elementtype': 'Text'},\n",
       "       {'x1': 953, 'x2': 1021, 'y1': 207, 'y2': 252, 'elementtype': 'Text'},\n",
       "       {'x1': 1064, 'x2': 1096, 'y1': 207, 'y2': 252, 'elementtype': 'Text'},\n",
       "       {'x1': 1139, 'x2': 1235, 'y1': 207, 'y2': 252, 'elementtype': 'Text'},\n",
       "       {'x1': 0, 'x2': 1903, 'y1': 252, 'y2': 981, 'elementtype': 'Text'},\n",
       "       {'x1': 0, 'x2': 1903, 'y1': 252, 'y2': 981, 'elementtype': 'Text'},\n",
       "       {'x1': 0, 'x2': 1903, 'y1': 252, 'y2': 981, 'elementtype': 'Text'},\n",
       "       {'x1': 0, 'x2': 1903, 'y1': 252, 'y2': 981, 'elementtype': 'Text'},\n",
       "       {'x1': 0, 'x2': 1903, 'y1': 252, 'y2': 981, 'elementtype': 'Text'},\n",
       "       {'x1': 0, 'x2': 1903, 'y1': 252, 'y2': 981, 'elementtype': 'Text'},\n",
       "       {'x1': 0, 'x2': 1903, 'y1': 252, 'y2': 981, 'elementtype': 'Text'},\n",
       "       {'x1': 0, 'x2': 1903, 'y1': 252, 'y2': 981, 'elementtype': 'Text'},\n",
       "       {'x1': 0, 'x2': 1903, 'y1': 252, 'y2': 981, 'elementtype': 'Text'},\n",
       "       {'x1': 15, 'x2': 937, 'y1': 1011, 'y2': 1625, 'elementtype': 'Text'},\n",
       "       {'x1': 966, 'x2': 1888, 'y1': 1011, 'y2': 1625, 'elementtype': 'Text'},\n",
       "       {'x1': 798, 'x2': 902, 'y1': 1715, 'y2': 1745, 'elementtype': 'Text'},\n",
       "       {'x1': 912, 'x2': 1037, 'y1': 1715, 'y2': 1745, 'elementtype': 'Text'},\n",
       "       {'x1': 1046, 'x2': 1104, 'y1': 1715, 'y2': 1745, 'elementtype': 'Text'},\n",
       "       {'x1': 366, 'x2': 636, 'y1': 1785, 'y2': 2190, 'elementtype': 'Text'},\n",
       "       {'x1': 366, 'x2': 636, 'y1': 2205, 'y2': 2249, 'elementtype': 'Text'},\n",
       "       {'x1': 666, 'x2': 936, 'y1': 1785, 'y2': 2190, 'elementtype': 'Text'},\n",
       "       {'x1': 666, 'x2': 936, 'y1': 2205, 'y2': 2249, 'elementtype': 'Text'},\n",
       "       {'x1': 966, 'x2': 1236, 'y1': 1785, 'y2': 2001, 'elementtype': 'Text'},\n",
       "       {'x1': 966, 'x2': 1236, 'y1': 2016, 'y2': 2060, 'elementtype': 'Text'},\n",
       "       {'x1': 1266, 'x2': 1536, 'y1': 1785, 'y2': 2001, 'elementtype': 'Text'},\n",
       "       {'x1': 1266, 'x2': 1536, 'y1': 2016, 'y2': 2060, 'elementtype': 'Text'},\n",
       "       {'x1': 1566, 'x2': 1836, 'y1': 1785, 'y2': 2001, 'elementtype': 'Text'},\n",
       "       {'x1': 1566, 'x2': 1836, 'y1': 2016, 'y2': 2060, 'elementtype': 'Text'},\n",
       "       {'x1': 1866, 'x2': 2136, 'y1': 1785, 'y2': 2001, 'elementtype': 'Text'},\n",
       "       {'x1': 1866, 'x2': 2136, 'y1': 2016, 'y2': 2060, 'elementtype': 'Text'},\n",
       "       {'x1': 366, 'x2': 736, 'y1': 2382, 'y2': 2403, 'elementtype': 'Text'},\n",
       "       {'x1': 470, 'x2': 631, 'y1': 2574, 'y2': 2614, 'elementtype': 'Text'},\n",
       "       {'x1': 766, 'x2': 1136, 'y1': 2382, 'y2': 2403, 'elementtype': 'Text'},\n",
       "       {'x1': 870, 'x2': 1031, 'y1': 2552, 'y2': 2592, 'elementtype': 'Text'},\n",
       "       {'x1': 1166, 'x2': 1536, 'y1': 2382, 'y2': 2403, 'elementtype': 'Text'},\n",
       "       {'x1': 1270, 'x2': 1431, 'y1': 2574, 'y2': 2614, 'elementtype': 'Text'},\n",
       "       {'x1': 0, 'x2': 634, 'y1': 3578, 'y2': 3595, 'elementtype': 'Text'},\n",
       "       {'x1': 634, 'x2': 1268, 'y1': 3578, 'y2': 3595, 'elementtype': 'Text'},\n",
       "       {'x1': 1268, 'x2': 1902, 'y1': 3578, 'y2': 3595, 'elementtype': 'Text'},\n",
       "       {'x1': 0, 'x2': 634, 'y1': 4213, 'y2': 4230, 'elementtype': 'Text'},\n",
       "       {'x1': 634, 'x2': 1268, 'y1': 4213, 'y2': 4230, 'elementtype': 'Text'},\n",
       "       {'x1': 1268, 'x2': 1902, 'y1': 4213, 'y2': 4230, 'elementtype': 'Text'},\n",
       "       {'x1': 366, 'x2': 421, 'y1': 4911, 'y2': 4939, 'elementtype': 'Text'},\n",
       "       {'x1': 366, 'x2': 432, 'y1': 4939, 'y2': 4967, 'elementtype': 'Text'},\n",
       "       {'x1': 366, 'x2': 493, 'y1': 4967, 'y2': 4995, 'elementtype': 'Text'},\n",
       "       {'x1': 606, 'x2': 788, 'y1': 4911, 'y2': 4939, 'elementtype': 'Text'},\n",
       "       {'x1': 606, 'x2': 659, 'y1': 4939, 'y2': 4967, 'elementtype': 'Text'},\n",
       "       {'x1': 846, 'x2': 925, 'y1': 4911, 'y2': 4939, 'elementtype': 'Text'},\n",
       "       {'x1': 846, 'x2': 963, 'y1': 4939, 'y2': 4967, 'elementtype': 'Text'},\n",
       "       {'x1': 846, 'x2': 927, 'y1': 4967, 'y2': 4995, 'elementtype': 'Text'},\n",
       "       {'x1': 846, 'x2': 940, 'y1': 4995, 'y2': 5023, 'elementtype': 'Text'},\n",
       "       {'x1': 1086, 'x2': 1122, 'y1': 4922, 'y2': 4958, 'elementtype': 'Text'},\n",
       "       {'x1': 1137, 'x2': 1173, 'y1': 4922, 'y2': 4958, 'elementtype': 'Text'},\n",
       "       {'x1': 1188, 'x2': 1224, 'y1': 4922, 'y2': 4958, 'elementtype': 'Text'},\n",
       "       {'x1': 366, 'x2': 421, 'y1': 5245, 'y2': 5262, 'elementtype': 'Text'},\n",
       "       {'x1': 439, 'x2': 479, 'y1': 5245, 'y2': 5262, 'elementtype': 'Text'},\n",
       "       {'x1': 1923, 'x2': 2220, 'y1': 22, 'y2': 39, 'elementtype': 'Text'},\n",
       "       {'x1': 2003, 'x2': 2140, 'y1': 332, 'y2': 349, 'elementtype': 'Text'},\n",
       "       {'x1': 1923, 'x2': 2220, 'y1': 373, 'y2': 409, 'elementtype': 'Text'},\n",
       "       {'x1': 1923, 'x2': 2220, 'y1': 23, 'y2': 40, 'elementtype': 'Text'},\n",
       "       {'x1': 1923, 'x2': 2220, 'y1': 264, 'y2': 300, 'elementtype': 'Text'},\n",
       "       {'x1': 391, 'x2': 1511, 'y1': 17, 'y2': 34, 'elementtype': 'Text'},\n",
       "       {'x1': 1226, 'x2': 1448, 'y1': 57, 'y2': 77, 'elementtype': 'Text'},\n",
       "       {'x1': 1469, 'x2': 1486, 'y1': 56, 'y2': 76, 'elementtype': 'Text'},\n",
       "       {'x1': 1494, 'x2': 1518, 'y1': 57, 'y2': 77, 'elementtype': 'Text'},\n",
       "       {'x1': 1524, 'x2': 1547, 'y1': 122, 'y2': 145, 'elementtype': 'Text'},\n",
       "       {'x1': 667, 'x2': 754, 'y1': 221, 'y2': 240, 'elementtype': 'Text'},\n",
       "       {'x1': 0, 'x2': 20, 'y1': 0, 'y2': 21, 'elementtype': 'Text'},\n",
       "       {'x1': 366, 'x2': 446, 'y1': 307, 'y2': 326, 'elementtype': 'Text'},\n",
       "       {'x1': 599, 'x2': 671, 'y1': 307, 'y2': 326, 'elementtype': 'Text'},\n",
       "       {'x1': 0, 'x2': 20, 'y1': 0, 'y2': 20, 'elementtype': 'Text'},\n",
       "       {'x1': 599, 'x2': 645, 'y1': 338, 'y2': 355, 'elementtype': 'Text'},\n",
       "       {'x1': 599, 'x2': 686, 'y1': 368, 'y2': 385, 'elementtype': 'Text'},\n",
       "       {'x1': 599, 'x2': 700, 'y1': 398, 'y2': 415, 'elementtype': 'Text'},\n",
       "       {'x1': 599, 'x2': 698, 'y1': 428, 'y2': 445, 'elementtype': 'Text'},\n",
       "       {'x1': 599, 'x2': 715, 'y1': 458, 'y2': 475, 'elementtype': 'Text'},\n",
       "       {'x1': 599, 'x2': 681, 'y1': 488, 'y2': 505, 'elementtype': 'Text'},\n",
       "       {'x1': 599, 'x2': 683, 'y1': 518, 'y2': 535, 'elementtype': 'Text'},\n",
       "       {'x1': 599, 'x2': 690, 'y1': 548, 'y2': 565, 'elementtype': 'Text'},\n",
       "       {'x1': 599, 'x2': 676, 'y1': 578, 'y2': 595, 'elementtype': 'Text'},\n",
       "       {'x1': 599, 'x2': 675, 'y1': 608, 'y2': 625, 'elementtype': 'Text'},\n",
       "       {'x1': 599, 'x2': 714, 'y1': 638, 'y2': 655, 'elementtype': 'Text'},\n",
       "       {'x1': 833, 'x2': 948, 'y1': 307, 'y2': 326, 'elementtype': 'Text'},\n",
       "       {'x1': 0, 'x2': 20, 'y1': 0, 'y2': 20, 'elementtype': 'Text'},\n",
       "       {'x1': 833, 'x2': 960, 'y1': 338, 'y2': 355, 'elementtype': 'Text'},\n",
       "       {'x1': 833, 'x2': 961, 'y1': 368, 'y2': 385, 'elementtype': 'Text'},\n",
       "       {'x1': 366, 'x2': 453, 'y1': 369, 'y2': 388, 'elementtype': 'Text'},\n",
       "       {'x1': 0, 'x2': 20, 'y1': 0, 'y2': 20, 'elementtype': 'Text'},\n",
       "       {'x1': 366, 'x2': 493, 'y1': 400, 'y2': 417, 'elementtype': 'Text'},\n",
       "       {'x1': 797, 'x2': 909, 'y1': 221, 'y2': 240, 'elementtype': 'Text'},\n",
       "       {'x1': 0, 'x2': 20, 'y1': 0, 'y2': 21, 'elementtype': 'Text'},\n",
       "       {'x1': 953, 'x2': 1021, 'y1': 221, 'y2': 240, 'elementtype': 'Text'},\n",
       "       {'x1': 1064, 'x2': 1096, 'y1': 221, 'y2': 240, 'elementtype': 'Text'},\n",
       "       {'x1': 0, 'x2': 20, 'y1': 0, 'y2': 21, 'elementtype': 'Text'},\n",
       "       {'x1': 1139, 'x2': 1235, 'y1': 221, 'y2': 240, 'elementtype': 'Text'},\n",
       "       {'x1': 0, 'x2': 20, 'y1': 0, 'y2': 21, 'elementtype': 'Text'},\n",
       "       {'x1': 846, 'x2': 1055, 'y1': 1668, 'y2': 1696, 'elementtype': 'Text'},\n",
       "       {'x1': 870, 'x2': 1031, 'y1': 1668, 'y2': 1696, 'elementtype': 'Text'},\n",
       "       {'x1': 814, 'x2': 886, 'y1': 1722, 'y2': 1739, 'elementtype': 'Text'},\n",
       "       {'x1': 928, 'x2': 1021, 'y1': 1722, 'y2': 1739, 'elementtype': 'Text'},\n",
       "       {'x1': 1062, 'x2': 1088, 'y1': 1722, 'y2': 1739, 'elementtype': 'Text'},\n",
       "       {'x1': 366, 'x2': 636, 'y1': 1785, 'y2': 2190, 'elementtype': 'Text'},\n",
       "       {'x1': 380, 'x2': 623, 'y1': 2207, 'y2': 2246, 'elementtype': 'Text'},\n",
       "       {'x1': 478, 'x2': 524, 'y1': 2254, 'y2': 2273, 'elementtype': 'Text'},\n",
       "       {'x1': 478, 'x2': 524, 'y1': 2254, 'y2': 2273, 'elementtype': 'Text'},\n",
       "       {'x1': 666, 'x2': 936, 'y1': 1785, 'y2': 2190, 'elementtype': 'Text'},\n",
       "       {'x1': 680, 'x2': 923, 'y1': 2207, 'y2': 2246, 'elementtype': 'Text'},\n",
       "       {'x1': 778, 'x2': 824, 'y1': 2254, 'y2': 2273, 'elementtype': 'Text'},\n",
       "       {'x1': 778, 'x2': 824, 'y1': 2254, 'y2': 2273, 'elementtype': 'Text'},\n",
       "       {'x1': 966, 'x2': 1236, 'y1': 1785, 'y2': 2001, 'elementtype': 'Text'},\n",
       "       {'x1': 980, 'x2': 1223, 'y1': 2018, 'y2': 2057, 'elementtype': 'Text'},\n",
       "       {'x1': 1078, 'x2': 1124, 'y1': 2065, 'y2': 2084, 'elementtype': 'Text'},\n",
       "       {'x1': 1078, 'x2': 1124, 'y1': 2065, 'y2': 2084, 'elementtype': 'Text'},\n",
       "       {'x1': 1266, 'x2': 1536, 'y1': 1785, 'y2': 2001, 'elementtype': 'Text'},\n",
       "       {'x1': 1280, 'x2': 1523, 'y1': 2018, 'y2': 2057, 'elementtype': 'Text'},\n",
       "       {'x1': 1381, 'x2': 1422, 'y1': 2065, 'y2': 2084, 'elementtype': 'Text'},\n",
       "       {'x1': 1381, 'x2': 1422, 'y1': 2065, 'y2': 2084, 'elementtype': 'Text'},\n",
       "       {'x1': 1566, 'x2': 1836, 'y1': 1785, 'y2': 2001, 'elementtype': 'Text'},\n",
       "       {'x1': 1580, 'x2': 1823, 'y1': 2018, 'y2': 2057, 'elementtype': 'Text'},\n",
       "       {'x1': 1681, 'x2': 1722, 'y1': 2065, 'y2': 2084, 'elementtype': 'Text'},\n",
       "       {'x1': 1681, 'x2': 1722, 'y1': 2065, 'y2': 2084, 'elementtype': 'Text'},\n",
       "       {'x1': 1866, 'x2': 2136, 'y1': 1785, 'y2': 2001, 'elementtype': 'Text'},\n",
       "       {'x1': 1880, 'x2': 2123, 'y1': 2018, 'y2': 2057, 'elementtype': 'Text'},\n",
       "       {'x1': 1981, 'x2': 2022, 'y1': 2065, 'y2': 2084, 'elementtype': 'Text'},\n",
       "       {'x1': 1981, 'x2': 2022, 'y1': 2065, 'y2': 2084, 'elementtype': 'Text'},\n",
       "       {'x1': 788, 'x2': 1115, 'y1': 2310, 'y2': 2338, 'elementtype': 'Text'},\n",
       "       {'x1': 812, 'x2': 1091, 'y1': 2310, 'y2': 2338, 'elementtype': 'Text'},\n",
       "       {'x1': 460, 'x2': 641, 'y1': 2431, 'y2': 2459, 'elementtype': 'Text'},\n",
       "       {'x1': 389, 'x2': 713, 'y1': 2480, 'y2': 2541, 'elementtype': 'Text'},\n",
       "       {'x1': 512, 'x2': 589, 'y1': 2585, 'y2': 2604, 'elementtype': 'Text'},\n",
       "       {'x1': 896, 'x2': 1005, 'y1': 2431, 'y2': 2459, 'elementtype': 'Text'},\n",
       "       {'x1': 780, 'x2': 1123, 'y1': 2480, 'y2': 2519, 'elementtype': 'Text'},\n",
       "       {'x1': 912, 'x2': 989, 'y1': 2563, 'y2': 2582, 'elementtype': 'Text'},\n",
       "       {'x1': 1280, 'x2': 1423, 'y1': 2431, 'y2': 2459, 'elementtype': 'Text'},\n",
       "       {'x1': 1191, 'x2': 1511, 'y1': 2480, 'y2': 2541, 'elementtype': 'Text'},\n",
       "       {'x1': 1312, 'x2': 1389, 'y1': 2585, 'y2': 2604, 'elementtype': 'Text'},\n",
       "       {'x1': 859, 'x2': 1043, 'y1': 3520, 'y2': 3548, 'elementtype': 'Text'},\n",
       "       {'x1': 883, 'x2': 1019, 'y1': 3520, 'y2': 3548, 'elementtype': 'Text'},\n",
       "       {'x1': 366, 'x2': 414, 'y1': 4881, 'y2': 4900, 'elementtype': 'Text'},\n",
       "       {'x1': 366, 'x2': 421, 'y1': 4916, 'y2': 4933, 'elementtype': 'Text'},\n",
       "       {'x1': 366, 'x2': 432, 'y1': 4944, 'y2': 4961, 'elementtype': 'Text'},\n",
       "       {'x1': 366, 'x2': 493, 'y1': 4972, 'y2': 4989, 'elementtype': 'Text'},\n",
       "       {'x1': 606, 'x2': 745, 'y1': 4881, 'y2': 4900, 'elementtype': 'Text'},\n",
       "       {'x1': 606, 'x2': 788, 'y1': 4916, 'y2': 4933, 'elementtype': 'Text'},\n",
       "       {'x1': 606, 'x2': 659, 'y1': 4944, 'y2': 4961, 'elementtype': 'Text'},\n",
       "       {'x1': 846, 'x2': 946, 'y1': 4881, 'y2': 4900, 'elementtype': 'Text'},\n",
       "       {'x1': 846, 'x2': 925, 'y1': 4916, 'y2': 4933, 'elementtype': 'Text'},\n",
       "       {'x1': 846, 'x2': 963, 'y1': 4944, 'y2': 4961, 'elementtype': 'Text'},\n",
       "       {'x1': 846, 'x2': 927, 'y1': 4972, 'y2': 4989, 'elementtype': 'Text'},\n",
       "       {'x1': 846, 'x2': 940, 'y1': 5000, 'y2': 5017, 'elementtype': 'Text'},\n",
       "       {'x1': 1086, 'x2': 1213, 'y1': 4881, 'y2': 4900, 'elementtype': 'Text'},\n",
       "       {'x1': 1248, 'x2': 1434, 'y1': 4919, 'y2': 4939, 'elementtype': 'Text'},\n",
       "       {'x1': 1248, 'x2': 1434, 'y1': 4919, 'y2': 4939, 'elementtype': 'Text'},\n",
       "       {'x1': 1248, 'x2': 1398, 'y1': 4944, 'y2': 4972, 'elementtype': 'Text'},\n",
       "       {'x1': 1141, 'x2': 1286, 'y1': 5003, 'y2': 5022, 'elementtype': 'Text'},\n",
       "       {'x1': 1141, 'x2': 1329, 'y1': 5024, 'y2': 5043, 'elementtype': 'Text'},\n",
       "       {'x1': 1086, 'x2': 1299, 'y1': 5069, 'y2': 5088, 'elementtype': 'Text'},\n",
       "       {'x1': 1086, 'x2': 1499, 'y1': 5106, 'y2': 5123, 'elementtype': 'Text'},\n",
       "       {'x1': 2182, 'x2': 2219, 'y1': 24, 'y2': 37, 'elementtype': 'Text'},\n",
       "       {'x1': 1923, 'x2': 2012, 'y1': 126, 'y2': 143, 'elementtype': 'Text'},\n",
       "       {'x1': 1923, 'x2': 1985, 'y1': 203, 'y2': 220, 'elementtype': 'Text'},\n",
       "       {'x1': 2182, 'x2': 2219, 'y1': 25, 'y2': 38, 'elementtype': 'Text'},\n",
       "       {'x1': 1923, 'x2': 1956, 'y1': 183, 'y2': 203, 'elementtype': 'Text'},\n",
       "       {'x1': 1923, 'x2': 1956, 'y1': 184, 'y2': 201, 'elementtype': 'Text'},\n",
       "       {'x1': 2174, 'x2': 2219, 'y1': 183, 'y2': 203, 'elementtype': 'Text'},\n",
       "       {'x1': 2174, 'x2': 2219, 'y1': 181, 'y2': 204, 'elementtype': 'Text'}],\n",
       "      dtype=object)"
      ]
     },
     "execution_count": 78,
     "metadata": {},
     "output_type": "execute_result"
    }
   ],
   "source": [
    "data1"
   ]
  },
  {
   "cell_type": "code",
   "execution_count": null,
   "id": "d14cdc9b",
   "metadata": {},
   "outputs": [],
   "source": []
  }
 ],
 "metadata": {
  "kernelspec": {
   "display_name": "Python 3 (ipykernel)",
   "language": "python",
   "name": "python3"
  },
  "language_info": {
   "codemirror_mode": {
    "name": "ipython",
    "version": 3
   },
   "file_extension": ".py",
   "mimetype": "text/x-python",
   "name": "python",
   "nbconvert_exporter": "python",
   "pygments_lexer": "ipython3",
   "version": "3.9.12"
  }
 },
 "nbformat": 4,
 "nbformat_minor": 5
}
