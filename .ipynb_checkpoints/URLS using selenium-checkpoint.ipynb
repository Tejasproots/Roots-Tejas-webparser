{
 "cells": [
  {
   "cell_type": "markdown",
   "id": "82088892",
   "metadata": {},
   "source": [
    "# Importing libraries"
   ]
  },
  {
   "cell_type": "code",
   "execution_count": 1,
   "id": "155a706b",
   "metadata": {},
   "outputs": [],
   "source": [
    "import pandas as pd\n",
    "import re\n",
    "from selenium import webdriver\n",
    "from selenium.common.exceptions import NoSuchElementException\n",
    "\n",
    "from selenium.webdriver.support import expected_conditions as EC\n",
    "from selenium.webdriver.support.ui import WebDriverWait\n",
    "from selenium.webdriver.common.by import By\n",
    "from IPython.display import Image\n",
    "import datetime\n",
    "import time"
   ]
  },
  {
   "cell_type": "markdown",
   "id": "ec434d4c",
   "metadata": {},
   "source": [
    "# Chromedriver extension"
   ]
  },
  {
   "cell_type": "code",
   "execution_count": null,
   "id": "415e2c63",
   "metadata": {},
   "outputs": [],
   "source": [
    "PATH =(r\"C:\\Users\\TejasP\\OneDrive - Roots Automation, Inc\\Documents\\chromedriver.exe\")\n",
    "driver = webdriver.Chrome(PATH)"
   ]
  },
  {
   "cell_type": "markdown",
   "id": "c273f810",
   "metadata": {},
   "source": [
    "# Site to parse  - Input ( url and app name )"
   ]
  },
  {
   "cell_type": "code",
   "execution_count": null,
   "id": "28269781",
   "metadata": {},
   "outputs": [],
   "source": [
    "appname = \"Shopify\" #application name\" \n",
    "#url for search\"\n",
    "searchinput = \"https://www.google.com/search?q=United States of America:site:myshopify.com\"\n",
    "#searchinput ='https://www.google.com/search?q=site%3Abubbleapps.io&rlz=1C1CHZN_enUS946US946&oq=site%3Abubbleapps.io&aqs=chrome.0.69i59j69i58.1230j0j7&sourceid=chrome&ie=UTF-8'\n",
    "driver.get(searchinput)\n",
    "driver.maximize_window()\n",
    "#searchinput"
   ]
  },
  {
   "cell_type": "code",
   "execution_count": 4,
   "id": "22648702",
   "metadata": {},
   "outputs": [],
   "source": [
    "#dynamic search query  \n",
    "#searchvariable= \"india\"\n",
    "#searchinput = 'https://www.google.com/search?q='+searchvariable+':site:myshopify.com'\n",
    "#searchinput"
   ]
  },
  {
   "cell_type": "code",
   "execution_count": 5,
   "id": "0e2bdb17",
   "metadata": {},
   "outputs": [],
   "source": [
    "#bubble\n",
    "# https://www.google.com/search?q=site%3Abubbleapps.io&rlz=1C1CHZN_enUS946US946&oq=site%3Abubbleapps.io&aqs=chrome.0.69i59j69i58.1230j0j7&sourceid=chrome&ie=UTF-8"
   ]
  },
  {
   "cell_type": "markdown",
   "id": "45a4c2d2",
   "metadata": {},
   "source": [
    "# Empyty list"
   ]
  },
  {
   "cell_type": "code",
   "execution_count": 6,
   "id": "ee43e38b",
   "metadata": {},
   "outputs": [],
   "source": [
    "URL =[] #to store urls of apps\n",
    "pageno =[]\n",
    "links = []"
   ]
  },
  {
   "cell_type": "markdown",
   "id": "43dd489b",
   "metadata": {},
   "source": [
    "# Parse the webpages and saving the output to list  \"links\""
   ]
  },
  {
   "cell_type": "code",
   "execution_count": 7,
   "id": "bb0ce68b",
   "metadata": {},
   "outputs": [],
   "source": [
    "for i in range(1,40,1) :  # range for loopin thourgh search results\n",
    "    pagenosearch = i\n",
    "    try:\n",
    "        for j in range(2,10,1):   # range for parsing urls on each page\n",
    "            URL.append(driver.find_element(By.XPATH,('//*[@id=\"rso\"]/div[')+str(j)+(']/div/div[1]/div/a')).text)\n",
    "            for i in URL:\n",
    "                result = re.search('https(.*)com',i) #Regex to look for for specific patterns \"https.......com\"\n",
    "                if result:\n",
    "                    id = result.group()               \n",
    "                    if id not in links:\n",
    "                        links.append(id) #if regex passed and value not already in list append to list\n",
    "                        pageno.append(pagenosearch)\n",
    "        time.sleep(3) \n",
    "        driver.find_element(By.XPATH,('//*[@id=\"pnnext\"]/span[2]')).click() # click on next page in browser\"\n",
    "    except NoSuchElementException:\n",
    "            driver.quit() \n",
    "            continue\n",
    "         "
   ]
  },
  {
   "cell_type": "markdown",
   "id": "71ea49fb",
   "metadata": {},
   "source": [
    "# creating a dataframe"
   ]
  },
  {
   "cell_type": "code",
   "execution_count": 6,
   "id": "213af186",
   "metadata": {},
   "outputs": [
    {
     "data": {
      "text/html": [
       "<div>\n",
       "<style scoped>\n",
       "    .dataframe tbody tr th:only-of-type {\n",
       "        vertical-align: middle;\n",
       "    }\n",
       "\n",
       "    .dataframe tbody tr th {\n",
       "        vertical-align: top;\n",
       "    }\n",
       "\n",
       "    .dataframe thead th {\n",
       "        text-align: right;\n",
       "    }\n",
       "</style>\n",
       "<table border=\"1\" class=\"dataframe\">\n",
       "  <thead>\n",
       "    <tr style=\"text-align: right;\">\n",
       "      <th></th>\n",
       "      <th>appsite</th>\n",
       "      <th>fromsearchpage</th>\n",
       "      <th>url</th>\n",
       "    </tr>\n",
       "  </thead>\n",
       "  <tbody>\n",
       "    <tr>\n",
       "      <th>0</th>\n",
       "      <td>bubble</td>\n",
       "      <td>1</td>\n",
       "      <td>https://kinza-albania.myshopify.com</td>\n",
       "    </tr>\n",
       "  </tbody>\n",
       "</table>\n",
       "</div>"
      ],
      "text/plain": [
       "  appsite  fromsearchpage                                  url\n",
       "0  bubble               1  https://kinza-albania.myshopify.com"
      ]
     },
     "execution_count": 6,
     "metadata": {},
     "output_type": "execute_result"
    }
   ],
   "source": [
    "df= pd.DataFrame({'appsite':appname,\n",
    "                  'fromsearchpage':pageno,\n",
    "                  'url':links\n",
    "                 })\n",
    "df.drop_duplicates()"
   ]
  },
  {
   "cell_type": "code",
   "execution_count": 49,
   "id": "7fa00d02",
   "metadata": {},
   "outputs": [
    {
     "data": {
      "text/html": [
       "<div>\n",
       "<style scoped>\n",
       "    .dataframe tbody tr th:only-of-type {\n",
       "        vertical-align: middle;\n",
       "    }\n",
       "\n",
       "    .dataframe tbody tr th {\n",
       "        vertical-align: top;\n",
       "    }\n",
       "\n",
       "    .dataframe thead th {\n",
       "        text-align: right;\n",
       "    }\n",
       "</style>\n",
       "<table border=\"1\" class=\"dataframe\">\n",
       "  <thead>\n",
       "    <tr style=\"text-align: right;\">\n",
       "      <th></th>\n",
       "      <th>appsite</th>\n",
       "      <th>fromsearchpage</th>\n",
       "      <th>url</th>\n",
       "    </tr>\n",
       "  </thead>\n",
       "  <tbody>\n",
       "    <tr>\n",
       "      <th>0</th>\n",
       "      <td>bubble</td>\n",
       "      <td>1</td>\n",
       "      <td>https://michael-wainwright-usa.myshopify.com</td>\n",
       "    </tr>\n",
       "    <tr>\n",
       "      <th>1</th>\n",
       "      <td>bubble</td>\n",
       "      <td>1</td>\n",
       "      <td>https://top-america-usa.myshopify.com</td>\n",
       "    </tr>\n",
       "    <tr>\n",
       "      <th>2</th>\n",
       "      <td>bubble</td>\n",
       "      <td>1</td>\n",
       "      <td>https://sweet-shop-usa.myshopify.com</td>\n",
       "    </tr>\n",
       "  </tbody>\n",
       "</table>\n",
       "</div>"
      ],
      "text/plain": [
       "  appsite  fromsearchpage                                           url\n",
       "0  bubble               1  https://michael-wainwright-usa.myshopify.com\n",
       "1  bubble               1         https://top-america-usa.myshopify.com\n",
       "2  bubble               1          https://sweet-shop-usa.myshopify.com"
      ]
     },
     "execution_count": 49,
     "metadata": {},
     "output_type": "execute_result"
    }
   ],
   "source": [
    "df"
   ]
  },
  {
   "cell_type": "markdown",
   "id": "a1ed7cb2",
   "metadata": {},
   "source": [
    "# Saving output to csv"
   ]
  },
  {
   "cell_type": "code",
   "execution_count": null,
   "id": "106c1665",
   "metadata": {},
   "outputs": [],
   "source": [
    "df.to_csv((appname)+'.csv')"
   ]
  },
  {
   "cell_type": "code",
   "execution_count": 51,
   "id": "db9de533",
   "metadata": {},
   "outputs": [],
   "source": [
    "https://www.google.com/search?q=Albania:site:myshopify.com"
   ]
  }
 ],
 "metadata": {
  "kernelspec": {
   "display_name": "Python 3 (ipykernel)",
   "language": "python",
   "name": "python3"
  },
  "language_info": {
   "codemirror_mode": {
    "name": "ipython",
    "version": 3
   },
   "file_extension": ".py",
   "mimetype": "text/x-python",
   "name": "python",
   "nbconvert_exporter": "python",
   "pygments_lexer": "ipython3",
   "version": "3.9.12"
  }
 },
 "nbformat": 4,
 "nbformat_minor": 5
}
