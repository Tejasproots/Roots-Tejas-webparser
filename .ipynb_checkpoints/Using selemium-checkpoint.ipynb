{
 "cells": [
  {
   "cell_type": "code",
   "execution_count": 154,
   "id": "f9f37726",
   "metadata": {},
   "outputs": [],
   "source": [
    "import pandas as pd\n",
    "import re\n",
    "from selenium import webdriver\n",
    "from selenium.common.exceptions import NoSuchElementException\n",
    "\n",
    "from selenium.webdriver.support import expected_conditions as EC\n",
    "from selenium.webdriver.support.ui import WebDriverWait\n",
    "from selenium.webdriver.common.by import By\n",
    "from IPython.display import Image\n",
    "import datetime"
   ]
  },
  {
   "cell_type": "code",
   "execution_count": 163,
   "id": "7b39d0e6",
   "metadata": {},
   "outputs": [
    {
     "name": "stderr",
     "output_type": "stream",
     "text": [
      "C:\\Users\\TejasP\\AppData\\Local\\Temp\\ipykernel_22896\\2576535899.py:2: DeprecationWarning: executable_path has been deprecated, please pass in a Service object\n",
      "  driver = webdriver.Chrome(PATH)\n"
     ]
    }
   ],
   "source": [
    "PATH =(r\"C:\\Users\\TejasP\\OneDrive - Roots Automation, Inc\\Documents\\chromedriver.exe\")\n",
    "driver = webdriver.Chrome(PATH)"
   ]
  },
  {
   "cell_type": "code",
   "execution_count": 164,
   "id": "fee02d5b",
   "metadata": {},
   "outputs": [],
   "source": [
    "searchinput ='https://www.google.com/search?q=site%3Amyshopify.com&rlz=1C1CHZN_enUS946US946&oq=site%3Amyshopify.com&aqs=chrome.0.69i59l3j69i58.193j0j7&sourceid=chrome&ie=UTF-8'\n",
    "#searchinput ='https://www.google.com/search?q=site%3Abubbleapps.io&rlz=1C1CHZN_enUS946US946&oq=site%3Abubbleapps.io&aqs=chrome.0.69i59j69i58.1230j0j7&sourceid=chrome&ie=UTF-8'"
   ]
  },
  {
   "cell_type": "code",
   "execution_count": 166,
   "id": "63d70bcf",
   "metadata": {},
   "outputs": [],
   "source": [
    "#dynamic search query  \n",
    "#searchvariable= \"india\"\n",
    "#searchinput = 'https://www.google.com/search?q='+searchvariable+':site:myshopify.com'\n",
    "#searchinput"
   ]
  },
  {
   "cell_type": "code",
   "execution_count": 157,
   "id": "5063ac0a",
   "metadata": {},
   "outputs": [],
   "source": [
    "driver.get(searchinput)\n",
    "#searchinput"
   ]
  },
  {
   "cell_type": "code",
   "execution_count": 158,
   "id": "2cae93d1",
   "metadata": {},
   "outputs": [],
   "source": [
    "Date = [] #to store date data\n",
    "Season_ep = [] #to store season data\n",
    "pageno = [] #to store page no of search result\n",
    "URL =[] #to store urls of apps\n",
    "#empty List\n",
    "final=[]\n",
    "links = []"
   ]
  },
  {
   "cell_type": "code",
   "execution_count": null,
   "id": "6240f72d",
   "metadata": {},
   "outputs": [],
   "source": [
    "#for i in range(3,4):\n",
    "    \n",
    "#    element=WebDriverWait(driver,20).until(EC.visibility_of_element_located((By.XPATH ,'//*[@id=\"page-series\"]/div[3]/div[2]/div[2]/div[6]/div[1]/ul/li['+str(i)+']/h4/a')))\n",
    "#    element.click()\n",
    "#    \n",
    "#    for j in range(1,5):\n",
    "#        try:\n",
    "#            \n",
    "#            Season_ep.append(driver.find_element_by_xpath('//*[@id=\"page-season\"]/div[4]/div[2]/div[1]/table/tbody/tr['+str(j)+']/td[1]').text)\n",
    "#            Guests.append(driver.find_element_by_xpath('//*[@id=\"page-season\"]/div[4]/div[2]/div[1]/table/tbody/tr['+str(j)+']/td[2]/a').text)\n",
    "#            Date.append(driver.find_element_by_xpath('//*[@id=\"page-season\"]/div[4]/div[2]/div[1]/table/tbody/tr['+str(j)+']/td[3]/div').text)\n",
    "#        \n",
    "#        except NoSuchElementException:\n",
    "#            \n",
    "#            continue  \n",
    "#    print('Season:'+str(i-2)+' done') \n",
    "#    \n",
    "#   element=WebDriverWait(driver,20).until(EC.visibility_of_element_located((By.XPATH ,'//*[@id=\"page-season\"]/div[3]/div/a[3]')))\n",
    "#    element.click()"
   ]
  },
  {
   "cell_type": "markdown",
   "id": "f08659da",
   "metadata": {},
   "source": [
    "XPATH DynamicString =  driver.find_element(By.XPATH,('//*[@id=\"rso\"]/div[')+str(j)+(']/div/div[1]/div/a')).text\n",
    "\n",
    "REGEX for Link\n",
    "\n",
    "result = re.search('https(.*)com',variable)\n",
    "result.group()\n",
    "\n",
    "click next = driver.find_element(By.XPATH,('//*[@id=\"pnnext\"]/span[2]')).click()\n",
    "\n"
   ]
  },
  {
   "cell_type": "code",
   "execution_count": 98,
   "id": "e960accc",
   "metadata": {},
   "outputs": [],
   "source": []
  },
  {
   "cell_type": "code",
   "execution_count": 160,
   "id": "ddea297e",
   "metadata": {},
   "outputs": [
    {
     "name": "stdout",
     "output_type": "stream",
     "text": [
      "https://testrevesderecho.myshopify.com\n",
      "https://testrevesderecho.myshopify.com\n",
      "https://houseofcharizma.myshopify.com\n",
      "https://testrevesderecho.myshopify.com\n",
      "https://houseofcharizma.myshopify.com\n",
      "https://kivarikivari.myshopify.com\n",
      "https://testrevesderecho.myshopify.com\n",
      "https://houseofcharizma.myshopify.com\n",
      "https://kivarikivari.myshopify.com\n",
      "https://beddys.myshopify.com\n",
      "https://testrevesderecho.myshopify.com\n",
      "https://houseofcharizma.myshopify.com\n",
      "https://kivarikivari.myshopify.com\n",
      "https://beddys.myshopify.com\n",
      "https://miamifruit.myshopify.com\n",
      "https://testrevesderecho.myshopify.com\n",
      "https://houseofcharizma.myshopify.com\n",
      "https://kivarikivari.myshopify.com\n",
      "https://beddys.myshopify.com\n",
      "https://miamifruit.myshopify.com\n",
      "https://benrector.myshopify.com\n",
      "https://testrevesderecho.myshopify.com\n",
      "https://houseofcharizma.myshopify.com\n",
      "https://kivarikivari.myshopify.com\n",
      "https://beddys.myshopify.com\n",
      "https://miamifruit.myshopify.com\n",
      "https://benrector.myshopify.com\n",
      "https://jauntairmobility.myshopify.com\n",
      "https://testrevesderecho.myshopify.com\n",
      "https://houseofcharizma.myshopify.com\n",
      "https://kivarikivari.myshopify.com\n",
      "https://beddys.myshopify.com\n",
      "https://miamifruit.myshopify.com\n",
      "https://benrector.myshopify.com\n",
      "https://jauntairmobility.myshopify.com\n",
      "https://altwork.myshopify.com\n"
     ]
    }
   ],
   "source": [
    "for j in range(2,10,1):\n",
    "    #pagenosearch = i\n",
    "    URL.append(driver.find_element(By.XPATH,('//*[@id=\"rso\"]/div[')+str(j)+(']/div/div[1]/div/a')).text)\n",
    "    for i in URL:\n",
    "        result = re.search('https(.*)com',i)\n",
    "        if result:\n",
    "            id = result.group()               \n",
    "            if id not in links:\n",
    "                links.append(id) #if regex passed and value not already in list append to list\n",
    "            #pageno.append(pagenosearch) \n",
    "            print(result.group())"
   ]
  },
  {
   "cell_type": "code",
   "execution_count": 28,
   "id": "e8103733",
   "metadata": {},
   "outputs": [
    {
     "name": "stdout",
     "output_type": "stream",
     "text": [
      "https://testrevesderecho.myshopify.com\n",
      "https://testrevesderecho.myshopify.com\n",
      "https://testrevesderecho.myshopify.com\n",
      "https://testrevesderecho.myshopify.com\n",
      "https://testrevesderecho.myshopify.com\n",
      "https://testrevesderecho.myshopify.com\n",
      "https://testrevesderecho.myshopify.com\n",
      "https://testrevesderecho.myshopify.com\n",
      "https://testrevesderecho.myshopify.com\n",
      "https://testrevesderecho.myshopify.com\n",
      "https://testrevesderecho.myshopify.com\n",
      "https://testrevesderecho.myshopify.com\n",
      "https://testrevesderecho.myshopify.com\n",
      "https://testrevesderecho.myshopify.com\n",
      "https://testrevesderecho.myshopify.com\n",
      "https://testrevesderecho.myshopify.com\n",
      "https://testrevesderecho.myshopify.com\n",
      "https://testrevesderecho.myshopify.com\n",
      "https://testrevesderecho.myshopify.com\n",
      "https://testrevesderecho.myshopify.com\n",
      "https://testrevesderecho.myshopify.com\n",
      "https://testrevesderecho.myshopify.com\n",
      "https://testrevesderecho.myshopify.com\n",
      "https://testrevesderecho.myshopify.com\n",
      "https://testrevesderecho.myshopify.com\n",
      "https://testrevesderecho.myshopify.com\n",
      "https://testrevesderecho.myshopify.com\n",
      "https://testrevesderecho.myshopify.com\n",
      "https://testrevesderecho.myshopify.com\n",
      "https://testrevesderecho.myshopify.com\n",
      "https://testrevesderecho.myshopify.com\n",
      "https://testrevesderecho.myshopify.com\n",
      "https://testrevesderecho.myshopify.com\n",
      "https://testrevesderecho.myshopify.com\n",
      "https://testrevesderecho.myshopify.com\n",
      "https://testrevesderecho.myshopify.com\n"
     ]
    }
   ],
   "source": [
    "for j in range(2,10,1):\n",
    "    URL.append(driver.find_element(By.XPATH,('//*[@id=\"rso\"]/div[2]/div/div[1]/div/a/div/cite')).text)\n",
    "    for i in URL:\n",
    "        result = re.search('https(.*)com',i)\n",
    "        if result:\n",
    "            print(result.group())"
   ]
  },
  {
   "cell_type": "code",
   "execution_count": 45,
   "id": "adc2c5f7",
   "metadata": {},
   "outputs": [],
   "source": [
    "import numpy as np\n",
    "  \n",
    "# function to get unique values\n",
    "def unique(url):\n",
    "    x = np.array(url)\n",
    "    print(np.unique(x))"
   ]
  },
  {
   "cell_type": "code",
   "execution_count": 52,
   "id": "61df5295",
   "metadata": {},
   "outputs": [
    {
     "name": "stdout",
     "output_type": "stream",
     "text": [
      "['Altwork Station The New Way to Work\\nhttps://altwork.myshopify.com'\n",
      " 'Ben Rector Online Store: Ben Rector Official Store\\nhttps://benrector.myshopify.com'\n",
      " 'Charizma - Official Online Store\\nhttps://houseofcharizma.myshopify.com'\n",
      " 'Jaunt Air Mobility\\nhttps://jauntairmobility.myshopify.com'\n",
      " 'Kivari | Considered & Feminine Clothing for Your Forever ...\\nhttps://kivarikivari.myshopify.com'\n",
      " 'Miami Fruit\\nhttps://miamifruit.myshopify.com'\n",
      " 'Revesderecho | Tienda Online\\nhttps://testrevesderecho.myshopify.com'\n",
      " \"Zipper Bedding - Beddy's | Fitted Comforter & Bunk Bed Bedding\\nhttps://beddys.myshopify.com\"]\n"
     ]
    }
   ],
   "source": []
  },
  {
   "cell_type": "code",
   "execution_count": null,
   "id": "0bdab895",
   "metadata": {},
   "outputs": [],
   "source": [
    "//*[@id=\"rso\"]/div[2]/div/div[1]/div/a/div/cite"
   ]
  },
  {
   "cell_type": "code",
   "execution_count": 49,
   "id": "58c8f2f8",
   "metadata": {},
   "outputs": [],
   "source": [
    "df= pd.DataFrame({'url':URL})"
   ]
  },
  {
   "cell_type": "code",
   "execution_count": 71,
   "id": "254a5d3c",
   "metadata": {},
   "outputs": [
    {
     "name": "stdout",
     "output_type": "stream",
     "text": [
      "Empty DataFrame\n",
      "Columns: [url]\n",
      "Index: []\n"
     ]
    }
   ],
   "source": [
    "df= pd.DataFrame({'url':URL})\n",
    "df.drop_duplicates()\n",
    "print(df)"
   ]
  },
  {
   "cell_type": "markdown",
   "id": "74dc9967",
   "metadata": {},
   "source": [
    "# Click Next page"
   ]
  },
  {
   "cell_type": "code",
   "execution_count": 46,
   "id": "9623d120",
   "metadata": {},
   "outputs": [],
   "source": [
    "driver.forward()\n",
    "j=1"
   ]
  },
  {
   "cell_type": "code",
   "execution_count": 70,
   "id": "8ee786be",
   "metadata": {},
   "outputs": [],
   "source": [
    "#pnnext > span:nth-child(2)  //*[@id=\"pnnext\"]/span[2] //*[@id=\"pnnext\"]/span[2]"
   ]
  },
  {
   "cell_type": "code",
   "execution_count": 48,
   "id": "606a83f8",
   "metadata": {},
   "outputs": [],
   "source": [
    "driver.find_element(By.XPATH,('//*[@id=\"pnnext\"]/span[2]')).click()"
   ]
  },
  {
   "cell_type": "code",
   "execution_count": 65,
   "id": "985f4889",
   "metadata": {},
   "outputs": [],
   "source": [
    "for i in range(1,4,1) :\n",
    "    j=2\n",
    "    for j in range(2,10,1):\n",
    "        URL.append(driver.find_element(By.XPATH,('//*[@id=\"rso\"]/div[')+str(j)+(']/div/div[1]/div/a')).text)\n",
    "    driver.find_element(By.XPATH,('//*[@id=\"pnnext\"]/span[2]')).click()"
   ]
  },
  {
   "cell_type": "code",
   "execution_count": 68,
   "id": "e54fe247",
   "metadata": {},
   "outputs": [],
   "source": [
    "\n",
    "for i in URL:\n",
    "        result = re.search('https(.*)com',i)\n",
    "        if result:\n",
    "            links.append(result.group())"
   ]
  },
  {
   "cell_type": "code",
   "execution_count": 69,
   "id": "65ec9af9",
   "metadata": {},
   "outputs": [
    {
     "data": {
      "text/plain": [
       "['https://houseofcharizma.myshopify.com',\n",
       " 'https://kivarikivari.myshopify.com',\n",
       " 'https://stretchofcolor.myshopify.com',\n",
       " 'https://studionoos.myshopify.com',\n",
       " 'https://lisendk.myshopify.com',\n",
       " 'https://sparklbands.myshopify.com',\n",
       " 'https://kinandkin.myshopify.com',\n",
       " 'https://jdmnation.myshopify.com',\n",
       " 'https://khorie.myshopify.com',\n",
       " 'https://oofos.myshopify.com',\n",
       " 'https://asimjofaofficial.myshopify.com',\n",
       " 'https://mostlikelytwopod.myshopify.com',\n",
       " 'https://houseoftoogood.myshopify.com',\n",
       " 'https://makartt.myshopify.com',\n",
       " 'https://lemsshoes.myshopify.com',\n",
       " 'https://jadeswim.myshopify.com',\n",
       " 'https://thetrolltrader.myshopify.com',\n",
       " 'https://emmabridgewater.myshopify.com',\n",
       " 'https://steinmartonline.myshopify.com',\n",
       " 'https://missnori.myshopify.com',\n",
       " 'https://ashleylongshoreart.myshopify.com',\n",
       " 'https://bitterliebe.myshopify.com']"
      ]
     },
     "execution_count": 69,
     "metadata": {},
     "output_type": "execute_result"
    }
   ],
   "source": [
    "links"
   ]
  },
  {
   "cell_type": "markdown",
   "id": "f306a73b",
   "metadata": {},
   "source": [
    "# LOOPING through search results"
   ]
  },
  {
   "cell_type": "code",
   "execution_count": 53,
   "id": "4732ffa4",
   "metadata": {},
   "outputs": [],
   "source": [
    "for i in range(1,20,1) :\n",
    "    j=2\n",
    "    for j in range(2,10,1):\n",
    "        URL.append(driver.find_element(By.XPATH,('//*[@id=\"rso\"]/div[')+str(j)+(']/div/div[1]/div/a')).text)\n",
    "        for i in URL:\n",
    "            result = re.search('https(.*)com',i)\n",
    "            if result:\n",
    "                id = result.group()\n",
    "                if id not in links:\n",
    "                    links.append(id)\n",
    "    driver.find_element(By.XPATH,('//*[@id=\"pnnext\"]/span[2]')).click()"
   ]
  },
  {
   "cell_type": "code",
   "execution_count": 54,
   "id": "1804ebf3",
   "metadata": {},
   "outputs": [
    {
     "name": "stdout",
     "output_type": "stream",
     "text": [
      "                                           url\n",
      "0       https://testrevesderecho.myshopify.com\n",
      "1        https://houseofcharizma.myshopify.com\n",
      "2           https://kivarikivari.myshopify.com\n",
      "3                 https://beddys.myshopify.com\n",
      "4             https://miamifruit.myshopify.com\n",
      "..                                         ...\n",
      "487      https://steinmartonline.myshopify.com\n",
      "488          https://ryleeandcru.myshopify.com\n",
      "489   https://ashleylongshoreart.myshopify.com\n",
      "490  https://mysisterwifescloset.myshopify.com\n",
      "491              https://daehair.myshopify.com\n",
      "\n",
      "[492 rows x 1 columns]\n"
     ]
    }
   ],
   "source": [
    "df= pd.DataFrame({'url':links})\n",
    "df.drop_duplicates()\n",
    "print(df)"
   ]
  },
  {
   "cell_type": "code",
   "execution_count": 13,
   "id": "ac213ea7",
   "metadata": {},
   "outputs": [],
   "source": [
    "df.to_csv('shopifyurls.csv')"
   ]
  },
  {
   "cell_type": "code",
   "execution_count": 130,
   "id": "46bc8db7",
   "metadata": {},
   "outputs": [],
   "source": [
    "Date = [] #to store date data\n",
    "Season_ep = [] #to store season data\n",
    "pageno = [] #to store page no of search result\n",
    "URL =[] #to store urls of apps\n",
    "#empty List\n",
    "final=[]\n",
    "links = []"
   ]
  },
  {
   "cell_type": "code",
   "execution_count": 134,
   "id": "d027d43b",
   "metadata": {},
   "outputs": [
    {
     "ename": "NoSuchElementException",
     "evalue": "Message: no such element: Unable to locate element: {\"method\":\"xpath\",\"selector\":\"//*[@id=\"rso\"]/div[8]/div/div[1]/div/a\"}\n  (Session info: chrome=103.0.5060.66)\nStacktrace:\nBacktrace:\n\tOrdinal0 [0x00B56463+2188387]\n\tOrdinal0 [0x00AEE461+1762401]\n\tOrdinal0 [0x00A03D78+802168]\n\tOrdinal0 [0x00A31880+989312]\n\tOrdinal0 [0x00A31B1B+989979]\n\tOrdinal0 [0x00A5E912+1173778]\n\tOrdinal0 [0x00A4C824+1099812]\n\tOrdinal0 [0x00A5CC22+1166370]\n\tOrdinal0 [0x00A4C5F6+1099254]\n\tOrdinal0 [0x00A26BE0+945120]\n\tOrdinal0 [0x00A27AD6+948950]\n\tGetHandleVerifier [0x00DF71F2+2712546]\n\tGetHandleVerifier [0x00DE886D+2652765]\n\tGetHandleVerifier [0x00BE002A+520730]\n\tGetHandleVerifier [0x00BDEE06+516086]\n\tOrdinal0 [0x00AF468B+1787531]\n\tOrdinal0 [0x00AF8E88+1805960]\n\tOrdinal0 [0x00AF8F75+1806197]\n\tOrdinal0 [0x00B01DF1+1842673]\n\tBaseThreadInitThunk [0x760B6739+25]\n\tRtlGetFullPathName_UEx [0x778C8FEF+1215]\n\tRtlGetFullPathName_UEx [0x778C8FBD+1165]\n",
     "output_type": "error",
     "traceback": [
      "\u001b[1;31m---------------------------------------------------------------------------\u001b[0m",
      "\u001b[1;31mNoSuchElementException\u001b[0m                    Traceback (most recent call last)",
      "Input \u001b[1;32mIn [134]\u001b[0m, in \u001b[0;36m<cell line: 1>\u001b[1;34m()\u001b[0m\n\u001b[0;32m      2\u001b[0m pagenosearch \u001b[38;5;241m=\u001b[39m i\n\u001b[0;32m      3\u001b[0m \u001b[38;5;28;01mfor\u001b[39;00m j \u001b[38;5;129;01min\u001b[39;00m \u001b[38;5;28mrange\u001b[39m(\u001b[38;5;241m2\u001b[39m,\u001b[38;5;241m10\u001b[39m,\u001b[38;5;241m1\u001b[39m):   \u001b[38;5;66;03m# range for parsing urls on each page\u001b[39;00m\n\u001b[1;32m----> 4\u001b[0m     URL\u001b[38;5;241m.\u001b[39mappend(\u001b[43mdriver\u001b[49m\u001b[38;5;241;43m.\u001b[39;49m\u001b[43mfind_element\u001b[49m\u001b[43m(\u001b[49m\u001b[43mBy\u001b[49m\u001b[38;5;241;43m.\u001b[39;49m\u001b[43mXPATH\u001b[49m\u001b[43m,\u001b[49m\u001b[43m(\u001b[49m\u001b[38;5;124;43m'\u001b[39;49m\u001b[38;5;124;43m//*[@id=\u001b[39;49m\u001b[38;5;124;43m\"\u001b[39;49m\u001b[38;5;124;43mrso\u001b[39;49m\u001b[38;5;124;43m\"\u001b[39;49m\u001b[38;5;124;43m]/div[\u001b[39;49m\u001b[38;5;124;43m'\u001b[39;49m\u001b[43m)\u001b[49m\u001b[38;5;241;43m+\u001b[39;49m\u001b[38;5;28;43mstr\u001b[39;49m\u001b[43m(\u001b[49m\u001b[43mj\u001b[49m\u001b[43m)\u001b[49m\u001b[38;5;241;43m+\u001b[39;49m\u001b[43m(\u001b[49m\u001b[38;5;124;43m'\u001b[39;49m\u001b[38;5;124;43m]/div/div[1]/div/a\u001b[39;49m\u001b[38;5;124;43m'\u001b[39;49m\u001b[43m)\u001b[49m\u001b[43m)\u001b[49m\u001b[38;5;241m.\u001b[39mtext)\n\u001b[0;32m      5\u001b[0m     \u001b[38;5;28;01mfor\u001b[39;00m i \u001b[38;5;129;01min\u001b[39;00m URL:\n\u001b[0;32m      6\u001b[0m         result \u001b[38;5;241m=\u001b[39m re\u001b[38;5;241m.\u001b[39msearch(\u001b[38;5;124m'\u001b[39m\u001b[38;5;124mhttps(.*)com\u001b[39m\u001b[38;5;124m'\u001b[39m,i) \u001b[38;5;66;03m#Regex to look for for specific patterns \"https.......com\"\u001b[39;00m\n",
      "File \u001b[1;32m~\\anaconda3\\lib\\site-packages\\selenium\\webdriver\\remote\\webdriver.py:857\u001b[0m, in \u001b[0;36mWebDriver.find_element\u001b[1;34m(self, by, value)\u001b[0m\n\u001b[0;32m    854\u001b[0m     by \u001b[38;5;241m=\u001b[39m By\u001b[38;5;241m.\u001b[39mCSS_SELECTOR\n\u001b[0;32m    855\u001b[0m     value \u001b[38;5;241m=\u001b[39m \u001b[38;5;124m'\u001b[39m\u001b[38;5;124m[name=\u001b[39m\u001b[38;5;124m\"\u001b[39m\u001b[38;5;132;01m%s\u001b[39;00m\u001b[38;5;124m\"\u001b[39m\u001b[38;5;124m]\u001b[39m\u001b[38;5;124m'\u001b[39m \u001b[38;5;241m%\u001b[39m value\n\u001b[1;32m--> 857\u001b[0m \u001b[38;5;28;01mreturn\u001b[39;00m \u001b[38;5;28;43mself\u001b[39;49m\u001b[38;5;241;43m.\u001b[39;49m\u001b[43mexecute\u001b[49m\u001b[43m(\u001b[49m\u001b[43mCommand\u001b[49m\u001b[38;5;241;43m.\u001b[39;49m\u001b[43mFIND_ELEMENT\u001b[49m\u001b[43m,\u001b[49m\u001b[43m \u001b[49m\u001b[43m{\u001b[49m\n\u001b[0;32m    858\u001b[0m \u001b[43m    \u001b[49m\u001b[38;5;124;43m'\u001b[39;49m\u001b[38;5;124;43musing\u001b[39;49m\u001b[38;5;124;43m'\u001b[39;49m\u001b[43m:\u001b[49m\u001b[43m \u001b[49m\u001b[43mby\u001b[49m\u001b[43m,\u001b[49m\n\u001b[0;32m    859\u001b[0m \u001b[43m    \u001b[49m\u001b[38;5;124;43m'\u001b[39;49m\u001b[38;5;124;43mvalue\u001b[39;49m\u001b[38;5;124;43m'\u001b[39;49m\u001b[43m:\u001b[49m\u001b[43m \u001b[49m\u001b[43mvalue\u001b[49m\u001b[43m}\u001b[49m\u001b[43m)\u001b[49m[\u001b[38;5;124m'\u001b[39m\u001b[38;5;124mvalue\u001b[39m\u001b[38;5;124m'\u001b[39m]\n",
      "File \u001b[1;32m~\\anaconda3\\lib\\site-packages\\selenium\\webdriver\\remote\\webdriver.py:435\u001b[0m, in \u001b[0;36mWebDriver.execute\u001b[1;34m(self, driver_command, params)\u001b[0m\n\u001b[0;32m    433\u001b[0m response \u001b[38;5;241m=\u001b[39m \u001b[38;5;28mself\u001b[39m\u001b[38;5;241m.\u001b[39mcommand_executor\u001b[38;5;241m.\u001b[39mexecute(driver_command, params)\n\u001b[0;32m    434\u001b[0m \u001b[38;5;28;01mif\u001b[39;00m response:\n\u001b[1;32m--> 435\u001b[0m     \u001b[38;5;28;43mself\u001b[39;49m\u001b[38;5;241;43m.\u001b[39;49m\u001b[43merror_handler\u001b[49m\u001b[38;5;241;43m.\u001b[39;49m\u001b[43mcheck_response\u001b[49m\u001b[43m(\u001b[49m\u001b[43mresponse\u001b[49m\u001b[43m)\u001b[49m\n\u001b[0;32m    436\u001b[0m     response[\u001b[38;5;124m'\u001b[39m\u001b[38;5;124mvalue\u001b[39m\u001b[38;5;124m'\u001b[39m] \u001b[38;5;241m=\u001b[39m \u001b[38;5;28mself\u001b[39m\u001b[38;5;241m.\u001b[39m_unwrap_value(\n\u001b[0;32m    437\u001b[0m         response\u001b[38;5;241m.\u001b[39mget(\u001b[38;5;124m'\u001b[39m\u001b[38;5;124mvalue\u001b[39m\u001b[38;5;124m'\u001b[39m, \u001b[38;5;28;01mNone\u001b[39;00m))\n\u001b[0;32m    438\u001b[0m     \u001b[38;5;28;01mreturn\u001b[39;00m response\n",
      "File \u001b[1;32m~\\anaconda3\\lib\\site-packages\\selenium\\webdriver\\remote\\errorhandler.py:247\u001b[0m, in \u001b[0;36mErrorHandler.check_response\u001b[1;34m(self, response)\u001b[0m\n\u001b[0;32m    245\u001b[0m         alert_text \u001b[38;5;241m=\u001b[39m value[\u001b[38;5;124m'\u001b[39m\u001b[38;5;124malert\u001b[39m\u001b[38;5;124m'\u001b[39m]\u001b[38;5;241m.\u001b[39mget(\u001b[38;5;124m'\u001b[39m\u001b[38;5;124mtext\u001b[39m\u001b[38;5;124m'\u001b[39m)\n\u001b[0;32m    246\u001b[0m     \u001b[38;5;28;01mraise\u001b[39;00m exception_class(message, screen, stacktrace, alert_text)  \u001b[38;5;66;03m# type: ignore[call-arg]  # mypy is not smart enough here\u001b[39;00m\n\u001b[1;32m--> 247\u001b[0m \u001b[38;5;28;01mraise\u001b[39;00m exception_class(message, screen, stacktrace)\n",
      "\u001b[1;31mNoSuchElementException\u001b[0m: Message: no such element: Unable to locate element: {\"method\":\"xpath\",\"selector\":\"//*[@id=\"rso\"]/div[8]/div/div[1]/div/a\"}\n  (Session info: chrome=103.0.5060.66)\nStacktrace:\nBacktrace:\n\tOrdinal0 [0x00B56463+2188387]\n\tOrdinal0 [0x00AEE461+1762401]\n\tOrdinal0 [0x00A03D78+802168]\n\tOrdinal0 [0x00A31880+989312]\n\tOrdinal0 [0x00A31B1B+989979]\n\tOrdinal0 [0x00A5E912+1173778]\n\tOrdinal0 [0x00A4C824+1099812]\n\tOrdinal0 [0x00A5CC22+1166370]\n\tOrdinal0 [0x00A4C5F6+1099254]\n\tOrdinal0 [0x00A26BE0+945120]\n\tOrdinal0 [0x00A27AD6+948950]\n\tGetHandleVerifier [0x00DF71F2+2712546]\n\tGetHandleVerifier [0x00DE886D+2652765]\n\tGetHandleVerifier [0x00BE002A+520730]\n\tGetHandleVerifier [0x00BDEE06+516086]\n\tOrdinal0 [0x00AF468B+1787531]\n\tOrdinal0 [0x00AF8E88+1805960]\n\tOrdinal0 [0x00AF8F75+1806197]\n\tOrdinal0 [0x00B01DF1+1842673]\n\tBaseThreadInitThunk [0x760B6739+25]\n\tRtlGetFullPathName_UEx [0x778C8FEF+1215]\n\tRtlGetFullPathName_UEx [0x778C8FBD+1165]\n"
     ]
    }
   ],
   "source": [
    "for i in range(1,4,1) :  # range for loopin thourgh search results\n",
    "    pagenosearch = i\n",
    "    for j in range(2,10,1):   # range for parsing urls on each page\n",
    "        URL.append(driver.find_element(By.XPATH,('//*[@id=\"rso\"]/div[')+str(j)+(']/div/div[1]/div/a')).text)\n",
    "        for i in URL:\n",
    "            result = re.search('https(.*)com',i) #Regex to look for for specific patterns \"https.......com\"\n",
    "            if result:\n",
    "                id = result.group()               \n",
    "                if id not in links:\n",
    "                    links.append(id) #if regex passed and value not already in list append to list\n",
    "                    pageno.append(pagenosearch) \n",
    "    driver.find_element(By.XPATH,('//*[@id=\"pnnext\"]/span[2]')).click() # click on next page in browser\""
   ]
  },
  {
   "cell_type": "code",
   "execution_count": 121,
   "id": "4f5e1d40",
   "metadata": {},
   "outputs": [
    {
     "name": "stdout",
     "output_type": "stream",
     "text": [
      "                                        url  pageno\n",
      "0            https://truewerk.myshopify.com       1\n",
      "1            https://hydrojug.myshopify.com       1\n",
      "2   https://shopendlesssummer.myshopify.com       1\n",
      "3           https://lobosolos.myshopify.com       1\n",
      "4    https://hewouldlovefirst.myshopify.com       1\n",
      "5     https://campingwithsoul.myshopify.com       1\n",
      "6   https://classyandfabstore.myshopify.com       1\n",
      "7         https://huubukstore.myshopify.com       2\n",
      "8             https://fkirons.myshopify.com       2\n",
      "9        https://goodgoodgolf.myshopify.com       2\n",
      "10               https://bngo.myshopify.com       2\n",
      "11        https://iamcaffeine.myshopify.com       2\n"
     ]
    }
   ],
   "source": [
    "df= pd.DataFrame({'url':links,\n",
    "                  'fromsearchpage':pageno})\n",
    "df.drop_duplicates()\n",
    "print(df)"
   ]
  },
  {
   "cell_type": "code",
   "execution_count": 106,
   "id": "f8fe289f",
   "metadata": {},
   "outputs": [
    {
     "name": "stdout",
     "output_type": "stream",
     "text": [
      "1\n",
      "2\n",
      "3\n",
      "4\n",
      "5\n",
      "6\n",
      "7\n",
      "8\n",
      "9\n"
     ]
    }
   ],
   "source": [
    "for i in range(1,10,1) :  # range for loopin thourgh search results\n",
    "    searchpage = i\n",
    "    pageno = searchpage\n",
    "    print(searchpage)"
   ]
  },
  {
   "cell_type": "code",
   "execution_count": 141,
   "id": "381e091a",
   "metadata": {},
   "outputs": [],
   "source": [
    "for i in range(1,40,1) :  # range for loopin thourgh search results\n",
    "    pagenosearch = i\n",
    "    try:\n",
    "        for j in range(2,10,1):   # range for parsing urls on each page\n",
    "            URL.append(driver.find_element(By.XPATH,('//*[@id=\"rso\"]/div[')+str(j)+(']/div/div[1]/div/a')).text)\n",
    "            for i in URL:\n",
    "                result = re.search('https(.*)com',i) #Regex to look for for specific patterns \"https.......com\"\n",
    "                if result:\n",
    "                    id = result.group()               \n",
    "                    if id not in links:\n",
    "                        links.append(id) #if regex passed and value not already in list append to list\n",
    "                        pageno.append(pagenosearch)\n",
    "        driver.find_element(By.XPATH,('//*[@id=\"pnnext\"]/span[2]')).click() # click on next page in browser\"\n",
    "    except NoSuchElementException:\n",
    "            continue"
   ]
  },
  {
   "cell_type": "code",
   "execution_count": 144,
   "id": "d21adefe",
   "metadata": {},
   "outputs": [
    {
     "name": "stdout",
     "output_type": "stream",
     "text": [
      "     appsite  fromsearchpage                                           url\n",
      "0    shopify               1        https://testrevesderecho.myshopify.com\n",
      "1    shopify               1         https://houseofcharizma.myshopify.com\n",
      "2    shopify               1            https://kivarikivari.myshopify.com\n",
      "3    shopify               1                  https://beddys.myshopify.com\n",
      "4    shopify               1              https://miamifruit.myshopify.com\n",
      "..       ...             ...                                           ...\n",
      "268  shopify              39              https://the-can-co.myshopify.com\n",
      "269  shopify              39  https://addison-clothing-store.myshopify.com\n",
      "270  shopify              39           https://two-feet-undr.myshopify.com\n",
      "271  shopify              39        https://archer-and-olive.myshopify.com\n",
      "272  shopify              39      https://insider-store-loja.myshopify.com\n",
      "\n",
      "[273 rows x 3 columns]\n"
     ]
    }
   ],
   "source": [
    "df= pd.DataFrame({'appsite':'shopify',\n",
    "                  'fromsearchpage':pageno,\n",
    "                  'url':links\n",
    "                 })\n",
    "df.drop_duplicates()\n",
    "print(df)"
   ]
  },
  {
   "cell_type": "code",
   "execution_count": 152,
   "id": "7ceb2bf6",
   "metadata": {},
   "outputs": [],
   "source": [
    "df.to_csv((appname)+'.csv')"
   ]
  },
  {
   "cell_type": "code",
   "execution_count": 148,
   "id": "5d001340",
   "metadata": {},
   "outputs": [],
   "source": [
    "appname = \"shopify\""
   ]
  },
  {
   "cell_type": "code",
   "execution_count": 149,
   "id": "c77454d1",
   "metadata": {},
   "outputs": [
    {
     "name": "stdout",
     "output_type": "stream",
     "text": [
      "     appsite  fromsearchpage                                           url\n",
      "0    shopify               1        https://testrevesderecho.myshopify.com\n",
      "1    shopify               1         https://houseofcharizma.myshopify.com\n",
      "2    shopify               1            https://kivarikivari.myshopify.com\n",
      "3    shopify               1                  https://beddys.myshopify.com\n",
      "4    shopify               1              https://miamifruit.myshopify.com\n",
      "..       ...             ...                                           ...\n",
      "268  shopify              39              https://the-can-co.myshopify.com\n",
      "269  shopify              39  https://addison-clothing-store.myshopify.com\n",
      "270  shopify              39           https://two-feet-undr.myshopify.com\n",
      "271  shopify              39        https://archer-and-olive.myshopify.com\n",
      "272  shopify              39      https://insider-store-loja.myshopify.com\n",
      "\n",
      "[273 rows x 3 columns]\n"
     ]
    }
   ],
   "source": [
    "df= pd.DataFrame({'appsite':appname,\n",
    "                  'fromsearchpage':pageno,\n",
    "                  'url':links\n",
    "                 })\n",
    "df.drop_duplicates()\n",
    "print(df)"
   ]
  },
  {
   "cell_type": "code",
   "execution_count": 150,
   "id": "800f30c3",
   "metadata": {},
   "outputs": [
    {
     "data": {
      "text/plain": [
       "'shopify.csv'"
      ]
     },
     "execution_count": 150,
     "metadata": {},
     "output_type": "execute_result"
    }
   ],
   "source": [
    "(appname)+'.csv'"
   ]
  },
  {
   "cell_type": "code",
   "execution_count": 153,
   "id": "553618fb",
   "metadata": {},
   "outputs": [
    {
     "ename": "SyntaxError",
     "evalue": "invalid syntax (1651442911.py, line 1)",
     "output_type": "error",
     "traceback": [
      "\u001b[1;36m  Input \u001b[1;32mIn [153]\u001b[1;36m\u001b[0m\n\u001b[1;33m    //*[@id=\"rso\"]/div[1]/div/div[1]/div/a\u001b[0m\n\u001b[1;37m    ^\u001b[0m\n\u001b[1;31mSyntaxError\u001b[0m\u001b[1;31m:\u001b[0m invalid syntax\n"
     ]
    }
   ],
   "source": [
    "//*[@id=\"rso\"]/div[1]/div/div[1]/div/a\n",
    "//*[@id=\"rso\"]/div[3]/div/div[1]/div/a\n",
    "//*[@id=\"rso\"]/div[3]/div/div[1]/div/a/div/cite"
   ]
  },
  {
   "cell_type": "code",
   "execution_count": 7,
   "id": "2cab65c9",
   "metadata": {},
   "outputs": [],
   "source": [
    "aa =\"United States of America\".lstrip"
   ]
  },
  {
   "cell_type": "code",
   "execution_count": 11,
   "id": "769921d4",
   "metadata": {},
   "outputs": [],
   "source": [
    "aa =\"United States of America\""
   ]
  },
  {
   "cell_type": "code",
   "execution_count": 14,
   "id": "8cadaa45",
   "metadata": {},
   "outputs": [
    {
     "data": {
      "text/plain": [
       "'UnitedStatesofAmerica'"
      ]
     },
     "execution_count": 14,
     "metadata": {},
     "output_type": "execute_result"
    }
   ],
   "source": [
    "import re\n",
    "re.sub(r\"\\s\", \"\", \"\"+aa+\"\\t\")"
   ]
  },
  {
   "cell_type": "code",
   "execution_count": null,
   "id": "c0b3fada",
   "metadata": {},
   "outputs": [],
   "source": []
  }
 ],
 "metadata": {
  "kernelspec": {
   "display_name": "Python 3 (ipykernel)",
   "language": "python",
   "name": "python3"
  },
  "language_info": {
   "codemirror_mode": {
    "name": "ipython",
    "version": 3
   },
   "file_extension": ".py",
   "mimetype": "text/x-python",
   "name": "python",
   "nbconvert_exporter": "python",
   "pygments_lexer": "ipython3",
   "version": "3.9.12"
  }
 },
 "nbformat": 4,
 "nbformat_minor": 5
}
