{
 "cells": [
  {
   "cell_type": "code",
   "execution_count": 17,
   "id": "b186a6cf",
   "metadata": {},
   "outputs": [],
   "source": [
    "import pandas as pd\n",
    "import re\n",
    "from selenium import webdriver\n",
    "from selenium.common.exceptions import NoSuchElementException\n",
    "\n",
    "from selenium.webdriver.support import expected_conditions as EC\n",
    "from selenium.webdriver.support.ui import WebDriverWait\n",
    "from selenium.webdriver.common.by import By\n",
    "from IPython.display import Image\n",
    "import datetime\n",
    "import time\n",
    "import random"
   ]
  },
  {
   "cell_type": "code",
   "execution_count": 9,
   "id": "b3a21576",
   "metadata": {},
   "outputs": [],
   "source": [
    "#applications = [\"site:bubbleapps.io\",\"site:myshopify.com\",\"site:wix.com\",\"site:squarespace.com\",\"site:mybigcommerce.com\"]\n",
    "applications = [\"site:myshopify.com\"]"
   ]
  },
  {
   "cell_type": "code",
   "execution_count": 10,
   "id": "bde3d1b9",
   "metadata": {},
   "outputs": [],
   "source": [
    "variable = [\"table\",\"bike\",\"sandals\",\"shoes\",\"slippers\",\"candles\",\"Toaster\",\"Microwave\",\"clothing\",\"shirts\",\"suits\",\"lights\"]"
   ]
  },
  {
   "cell_type": "code",
   "execution_count": 12,
   "id": "fee3f023",
   "metadata": {},
   "outputs": [
    {
     "data": {
      "text/plain": [
       "13"
      ]
     },
     "execution_count": 12,
     "metadata": {},
     "output_type": "execute_result"
    }
   ],
   "source": [
    "query1 = []\n",
    "for a in applications :\n",
    "    query1.append(a)\n",
    "len(query1)\n",
    "\n",
    "#random variable appended to application\n",
    "query3 =[]\n",
    "query3=[str(y)+\":\"+ x  for x in applications for y in variable]\n",
    "len(query3)\n",
    "\n",
    "finalquery= []\n",
    "finalquery = query1 + query3 ## + query3 + query4\n",
    "len(finalquery)"
   ]
  },
  {
   "cell_type": "code",
   "execution_count": 2,
   "id": "678817c6",
   "metadata": {},
   "outputs": [],
   "source": [
    "countryname = [\"Afghanistan\",\"Albania\",\"Algeria\",\"Andorra\",\"Angola\",\"Antigua and Barbuda\",\"Argentina\",\"Armenia\",\n",
    "               \"Australia\",\"Austria\",\"Azerbaijan\",\"Bahamas\",\"Bahrain\",\"Bangladesh\",\"Barbados\",\"Belarus\",\"Belgium\",\n",
    "               \"Belize\",\"Benin\",\"Bhutan\",\"Bolivia\",\"Bosnia and Herzegovina\",\"Botswana\",\"Brazil\",\"Brunei\",\"Bulgaria\",\n",
    "               \"Burkina Faso\",\"Burundi\",\"Côte d'Ivoire\",\"Cabo Verde\",\"Cambodia\",\"Cameroon\",\"Canada\",\n",
    "               \"Central African Republic\",\"Chad\",\"Chile\",\"China\",\"Colombia\",\"Comoros\",\"Congo\",\"Costa Rica\",\"Croatia\",\n",
    "               \"Cuba\",\"Cyprus\",\"Czechia\",\"Democratic Republic of the Congo\",\"Denmark\",\"Djibouti\",\"Dominica\",\n",
    "               \"Dominican Republic\",\"Ecuador\",\"Egypt\",\"El Salvador\",\"Equatorial Guinea\",\"Eritrea\",\n",
    "               \"Estonia\",\"Eswatini\",\"Ethiopia\",\"Fiji\",\"Finland\",\"France\",\"Gabon\",\"Gambia\",\"Georgia\",\"Germany\",\"Ghana\",\n",
    "               \"Greece\",\"Grenada\",\"Guatemala\",\"Guinea\",\"Guinea-Bissau\",\"Guyana\",\"Haiti\",\"Holy See\",\"Honduras\",\"Hungary\",\n",
    "               \"Iceland\",\"India\",\"Indonesia\",\"Iran\",\"Iraq\",\"Ireland\",\"Israel\",\"Italy\",\"Jamaica\",\"Japan\",\"Jordan\",\n",
    "               \"Kazakhstan\",\"Kenya\",\"Kiribati\",\"Kuwait\",\"Kyrgyzstan\",\"Laos\",\"Latvia\",\"Lebanon\",\"Lesotho\",\"Liberia\",\"Libya\",\"Liechtenstein\",\"Lithuania\",\"Luxembourg\",\"Madagascar\",\"Malawi\",\n",
    "               \"Malaysia\",\"Maldives\",\"Mali\",\"Malta\",\"Marshall Islands\",\"Mauritania\",\"Mauritius\",\"Mexico\",\"Micronesia\",\"Moldova\",\"Monaco\",\n",
    "               \"Mongolia\",\"Montenegro\",\"Morocco\",\"Mozambique\",\"Myanmar\",\"Namibia\",\"Nauru\",\"Nepal\",\"Netherlands\",\"New Zealand\",\n",
    "               \"Nicaragua\",\"Niger\",\"Nigeria\",\"North Korea\",\"North Macedonia\",\"Norway\",\"Oman\",\"Pakistan\",\"Palau\",\"Palestine State\",\"Panama\",\n",
    "               \"Papua New Guinea\",\"Paraguay\",\"Peru\",\"Philippines\",\"Poland\",\"Portugal\",\"Qatar\",\"Romania\",\"Russia\",\"Rwanda\",\"Saint Kitts and Nevis\",\n",
    "               \"Saint Lucia\",\"Saint Vincent and the Grenadines\",\"Samoa\",\"San Marino\",\"Sao Tome and Principe\",\n",
    "               \"Saudi Arabia\",\"Senegal\",\"Serbia\",\"Seychelles\",\"Sierra Leone\",\"Singapore\",\"Slovakia\",\"Slovenia\",\"Solomon Islands\",\"Somalia\",\"South Africa\",\n",
    "               \"South Korea\",\"South Sudan\",\"Spain\",\"Sri Lanka\",\"Sudan\",\"Suriname\",\"Sweden\",\"Switzerland\",\"Syria\",\n",
    "               \"Tajikistan\",\"Tanzania\",\"Thailand\",\"Timor-Leste\",\"Togo\",\"Tonga\",\"Trinidad and Tobago\",\"Tunisia\",\"Turkey\",\n",
    "               \"Turkmenistan\",\"Tuvalu\",\"Uganda\",\"Ukraine\",\"United Arab Emirates\",\"United Kingdom\",\"United States of America\",\n",
    "               \"Uruguay\",\"Uzbekistan\",\"Vanuatu\",\"Venezuela\",\"Vietnam\",\"Yemen\",\"Zambia\",\"Zimbabwe\"]"
   ]
  },
  {
   "cell_type": "code",
   "execution_count": 3,
   "id": "21a8f989",
   "metadata": {},
   "outputs": [],
   "source": [
    "countryname2 =[\"Afghanistan\",\"Albania\",\"Algeria\",\"Andorra\",\"Angola\"]"
   ]
  },
  {
   "cell_type": "code",
   "execution_count": null,
   "id": "2902f970",
   "metadata": {},
   "outputs": [],
   "source": []
  },
  {
   "cell_type": "code",
   "execution_count": 18,
   "id": "520e1465",
   "metadata": {},
   "outputs": [
    {
     "name": "stderr",
     "output_type": "stream",
     "text": [
      "C:\\Users\\TejasP\\AppData\\Local\\Temp\\ipykernel_1360\\2548778543.py:12: DeprecationWarning: executable_path has been deprecated, please pass in a Service object\n",
      "  driver = webdriver.Chrome(PATH)\n"
     ]
    }
   ],
   "source": [
    "searchinput = []\n",
    "country = []\n",
    "URL =[] #to store urls of apps\n",
    "pageno =[]\n",
    "links = []\n",
    "\n",
    "for c in finalquery:\n",
    "    #dynamic search query  \n",
    "    searchvariable= re.sub(r\"\\s\", \"\", \"\"+c+\"\\t\")\n",
    "    searchinput ='https://www.google.com/search?q='+searchvariable\n",
    "    PATH =(r\"C:\\Users\\TejasP\\local_code_repo\\DigitialVisionWebparser\\chromedriver.exe\")\n",
    "    driver = webdriver.Chrome(PATH)\n",
    "    driver.maximize_window()\n",
    "    appname = \"shopify\" #application name\" \n",
    "    #url for search\"\n",
    "    driver.get(searchinput)\n",
    "    #searchinput\n",
    "    \n",
    "    for p in range(1,20,1) :  # range for loopin thourgh search results\n",
    "        pagenosearch = p\n",
    "    try:\n",
    "        for j in range(2,10,1):   # range for parsing urls on each page\n",
    "            URL.append(driver.find_element(By.XPATH,('//*[@id=\"rso\"]/div[')+str(j)+(']/div/div[1]/div/a')).text)\n",
    "            for i in URL:\n",
    "                result = re.search('https(.*)com',i) #Regex to look for for specific patterns \"https.......com\"\n",
    "                if result:\n",
    "                    id = result.group()               \n",
    "                    if id not in links:\n",
    "                        links.append(id) #if regex passed and value not already in list append to list\n",
    "                        pageno.append(pagenosearch)\n",
    "                        #country.append(countryname)\n",
    "        time.sleep(random.randint(30,60))\n",
    "        driver.find_element(By.XPATH,('//*[@id=\"pnnext\"]/span[2]')).click() # click on next page in browser\"\n",
    "    except NoSuchElementException:\n",
    "        #quit all windows related to driver instance\n",
    "        driver.quit()\n",
    "        continue"
   ]
  },
  {
   "cell_type": "code",
   "execution_count": 21,
   "id": "0042ddef",
   "metadata": {},
   "outputs": [
    {
     "data": {
      "text/html": [
       "<div>\n",
       "<style scoped>\n",
       "    .dataframe tbody tr th:only-of-type {\n",
       "        vertical-align: middle;\n",
       "    }\n",
       "\n",
       "    .dataframe tbody tr th {\n",
       "        vertical-align: top;\n",
       "    }\n",
       "\n",
       "    .dataframe thead th {\n",
       "        text-align: right;\n",
       "    }\n",
       "</style>\n",
       "<table border=\"1\" class=\"dataframe\">\n",
       "  <thead>\n",
       "    <tr style=\"text-align: right;\">\n",
       "      <th></th>\n",
       "      <th>appsite</th>\n",
       "      <th>fromsearchpage</th>\n",
       "      <th>url</th>\n",
       "    </tr>\n",
       "  </thead>\n",
       "  <tbody>\n",
       "    <tr>\n",
       "      <th>0</th>\n",
       "      <td>shopify</td>\n",
       "      <td>19</td>\n",
       "      <td>https://bertelssalon.myshopify.com</td>\n",
       "    </tr>\n",
       "    <tr>\n",
       "      <th>1</th>\n",
       "      <td>shopify</td>\n",
       "      <td>19</td>\n",
       "      <td>https://roolee.myshopify.com</td>\n",
       "    </tr>\n",
       "    <tr>\n",
       "      <th>2</th>\n",
       "      <td>shopify</td>\n",
       "      <td>19</td>\n",
       "      <td>https://madecentro.myshopify.com</td>\n",
       "    </tr>\n",
       "    <tr>\n",
       "      <th>3</th>\n",
       "      <td>shopify</td>\n",
       "      <td>19</td>\n",
       "      <td>https://jcardiecast.myshopify.com</td>\n",
       "    </tr>\n",
       "    <tr>\n",
       "      <th>4</th>\n",
       "      <td>shopify</td>\n",
       "      <td>19</td>\n",
       "      <td>https://testrevesderecho.myshopify.com</td>\n",
       "    </tr>\n",
       "    <tr>\n",
       "      <th>5</th>\n",
       "      <td>shopify</td>\n",
       "      <td>19</td>\n",
       "      <td>https://houseofcharizma.myshopify.com</td>\n",
       "    </tr>\n",
       "    <tr>\n",
       "      <th>6</th>\n",
       "      <td>shopify</td>\n",
       "      <td>19</td>\n",
       "      <td>https://icanbikes.myshopify.com</td>\n",
       "    </tr>\n",
       "    <tr>\n",
       "      <th>7</th>\n",
       "      <td>shopify</td>\n",
       "      <td>19</td>\n",
       "      <td>https://kivarikivari.myshopify.com</td>\n",
       "    </tr>\n",
       "    <tr>\n",
       "      <th>8</th>\n",
       "      <td>shopify</td>\n",
       "      <td>19</td>\n",
       "      <td>https://slow-table.myshopify.com</td>\n",
       "    </tr>\n",
       "    <tr>\n",
       "      <th>9</th>\n",
       "      <td>shopify</td>\n",
       "      <td>19</td>\n",
       "      <td>https://mediterranean-table.myshopify.com</td>\n",
       "    </tr>\n",
       "    <tr>\n",
       "      <th>10</th>\n",
       "      <td>shopify</td>\n",
       "      <td>19</td>\n",
       "      <td>https://gent-suits.myshopify.com</td>\n",
       "    </tr>\n",
       "  </tbody>\n",
       "</table>\n",
       "</div>"
      ],
      "text/plain": [
       "    appsite  fromsearchpage                                        url\n",
       "0   shopify              19         https://bertelssalon.myshopify.com\n",
       "1   shopify              19               https://roolee.myshopify.com\n",
       "2   shopify              19           https://madecentro.myshopify.com\n",
       "3   shopify              19          https://jcardiecast.myshopify.com\n",
       "4   shopify              19     https://testrevesderecho.myshopify.com\n",
       "5   shopify              19      https://houseofcharizma.myshopify.com\n",
       "6   shopify              19            https://icanbikes.myshopify.com\n",
       "7   shopify              19         https://kivarikivari.myshopify.com\n",
       "8   shopify              19           https://slow-table.myshopify.com\n",
       "9   shopify              19  https://mediterranean-table.myshopify.com\n",
       "10  shopify              19           https://gent-suits.myshopify.com"
      ]
     },
     "execution_count": 21,
     "metadata": {},
     "output_type": "execute_result"
    }
   ],
   "source": [
    "df= pd.DataFrame({'appsite':\"shopify\",\n",
    "                  'fromsearchpage':pageno,\n",
    "                  'url':links\n",
    "                 })\n",
    "df.drop_duplicates()"
   ]
  },
  {
   "cell_type": "code",
   "execution_count": null,
   "id": "d7b38446",
   "metadata": {},
   "outputs": [],
   "source": [
    "searchinput='https://www.google.com/search?q='+\"usa\"+':site:myshopify.com'\n",
    "#country.append(i)\n",
    "PATH =(r\"C:\\Users\\TejasP\\OneDrive - Roots Automation, Inc\\Documents\\chromedriver.exe\")\n",
    "driver = webdriver.Chrome(PATH)\n",
    "#appname = \"bubble\" #application name\" \n",
    "#url for search\"\n",
    "driver.get(searchinput)"
   ]
  },
  {
   "cell_type": "code",
   "execution_count": null,
   "id": "006ef9c7",
   "metadata": {},
   "outputs": [],
   "source": []
  },
  {
   "cell_type": "code",
   "execution_count": 22,
   "id": "aecebf1c",
   "metadata": {},
   "outputs": [
    {
     "ename": "SyntaxError",
     "evalue": "invalid syntax (2216923700.py, line 1)",
     "output_type": "error",
     "traceback": [
      "\u001b[1;36m  Input \u001b[1;32mIn [22]\u001b[1;36m\u001b[0m\n\u001b[1;33m    //*[@id=\"rso\"]/div[75]/div/div[1]/div/a\u001b[0m\n\u001b[1;37m    ^\u001b[0m\n\u001b[1;31mSyntaxError\u001b[0m\u001b[1;31m:\u001b[0m invalid syntax\n"
     ]
    }
   ],
   "source": [
    "//*[@id=\"rso\"]/div[75]/div/div[1]/div/a\n",
    "//*[@id=\"rso\"]/div[24]/div/div[1]/div/a"
   ]
  },
  {
   "cell_type": "code",
   "execution_count": 13,
   "id": "032c30e0",
   "metadata": {},
   "outputs": [
    {
     "name": "stdout",
     "output_type": "stream",
     "text": [
      "https://www.google.com/search?q=site:myshopify.com\n",
      "https://www.google.com/search?q=table:site:myshopify.com\n",
      "https://www.google.com/search?q=bike:site:myshopify.com\n",
      "https://www.google.com/search?q=sandals:site:myshopify.com\n",
      "https://www.google.com/search?q=shoes:site:myshopify.com\n",
      "https://www.google.com/search?q=slippers:site:myshopify.com\n",
      "https://www.google.com/search?q=candles:site:myshopify.com\n",
      "https://www.google.com/search?q=Toaster:site:myshopify.com\n",
      "https://www.google.com/search?q=Microwave:site:myshopify.com\n",
      "https://www.google.com/search?q=clothing:site:myshopify.com\n",
      "https://www.google.com/search?q=shirts:site:myshopify.com\n",
      "https://www.google.com/search?q=suits:site:myshopify.com\n",
      "https://www.google.com/search?q=lights:site:myshopify.com\n"
     ]
    }
   ],
   "source": []
  },
  {
   "cell_type": "code",
   "execution_count": null,
   "id": "5f579b66",
   "metadata": {},
   "outputs": [],
   "source": []
  }
 ],
 "metadata": {
  "kernelspec": {
   "display_name": "Python 3 (ipykernel)",
   "language": "python",
   "name": "python3"
  },
  "language_info": {
   "codemirror_mode": {
    "name": "ipython",
    "version": 3
   },
   "file_extension": ".py",
   "mimetype": "text/x-python",
   "name": "python",
   "nbconvert_exporter": "python",
   "pygments_lexer": "ipython3",
   "version": "3.9.12"
  }
 },
 "nbformat": 4,
 "nbformat_minor": 5
}
